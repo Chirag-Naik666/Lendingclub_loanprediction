{
 "cells": [
  {
   "cell_type": "markdown",
   "metadata": {},
   "source": [
    "## Modeling"
   ]
  },
  {
   "cell_type": "markdown",
   "metadata": {},
   "source": [
    "### Importing required libraries"
   ]
  },
  {
   "cell_type": "code",
   "execution_count": 70,
   "metadata": {},
   "outputs": [],
   "source": [
    "#import libraries\n",
    "import pandas as pd\n",
    "import statsmodels.tools.tools as sm\n",
    "import numpy as np\n",
    "import pandas as pd\n",
    "import matplotlib.pyplot as plt\n",
    "import seaborn as sns\n",
    "from sklearn.preprocessing import StandardScaler,MinMaxScaler\n",
    "import statsmodels.api as sm\n",
    "from warnings import filterwarnings\n",
    "filterwarnings('ignore')\n",
    "import imblearn.over_sampling as im\n",
    "from sklearn.linear_model import LogisticRegression\n",
    "from sklearn.model_selection import train_test_split\n",
    "from sklearn.metrics import confusion_matrix,accuracy_score,recall_score,roc_auc_score,classification_report,f1_score\n",
    "from sklearn.tree import DecisionTreeClassifier\n",
    "from statsmodels.stats.outliers_influence import variance_inflation_factor"
   ]
  },
  {
   "cell_type": "code",
   "execution_count": 71,
   "metadata": {},
   "outputs": [
    {
     "data": {
      "text/html": [
       "<div>\n",
       "<style scoped>\n",
       "    .dataframe tbody tr th:only-of-type {\n",
       "        vertical-align: middle;\n",
       "    }\n",
       "\n",
       "    .dataframe tbody tr th {\n",
       "        vertical-align: top;\n",
       "    }\n",
       "\n",
       "    .dataframe thead th {\n",
       "        text-align: right;\n",
       "    }\n",
       "</style>\n",
       "<table border=\"1\" class=\"dataframe\">\n",
       "  <thead>\n",
       "    <tr style=\"text-align: right;\">\n",
       "      <th></th>\n",
       "      <th>grade</th>\n",
       "      <th>emp_length</th>\n",
       "      <th>loan_status</th>\n",
       "      <th>term_ 60 months</th>\n",
       "      <th>home_ownership_NONE</th>\n",
       "      <th>home_ownership_OTHER</th>\n",
       "      <th>home_ownership_OWN</th>\n",
       "      <th>home_ownership_RENT</th>\n",
       "      <th>verification_status_Source Verified</th>\n",
       "      <th>verification_status_Verified</th>\n",
       "      <th>...</th>\n",
       "      <th>int_rate</th>\n",
       "      <th>installment</th>\n",
       "      <th>annual_inc</th>\n",
       "      <th>dti</th>\n",
       "      <th>inq_last_6mths</th>\n",
       "      <th>open_acc</th>\n",
       "      <th>revol_bal</th>\n",
       "      <th>revol_util</th>\n",
       "      <th>total_acc</th>\n",
       "      <th>fico_average</th>\n",
       "    </tr>\n",
       "  </thead>\n",
       "  <tbody>\n",
       "    <tr>\n",
       "      <th>0</th>\n",
       "      <td>2</td>\n",
       "      <td>11</td>\n",
       "      <td>0</td>\n",
       "      <td>0</td>\n",
       "      <td>0</td>\n",
       "      <td>0</td>\n",
       "      <td>0</td>\n",
       "      <td>1</td>\n",
       "      <td>0</td>\n",
       "      <td>1</td>\n",
       "      <td>...</td>\n",
       "      <td>-0.378891</td>\n",
       "      <td>-0.788860</td>\n",
       "      <td>-0.710327</td>\n",
       "      <td>2.148332</td>\n",
       "      <td>0.053150</td>\n",
       "      <td>-1.473694</td>\n",
       "      <td>-0.063984</td>\n",
       "      <td>1.225422</td>\n",
       "      <td>-1.160265</td>\n",
       "      <td>0.569261</td>\n",
       "    </tr>\n",
       "    <tr>\n",
       "      <th>1</th>\n",
       "      <td>3</td>\n",
       "      <td>1</td>\n",
       "      <td>1</td>\n",
       "      <td>1</td>\n",
       "      <td>0</td>\n",
       "      <td>0</td>\n",
       "      <td>0</td>\n",
       "      <td>1</td>\n",
       "      <td>1</td>\n",
       "      <td>0</td>\n",
       "      <td>...</td>\n",
       "      <td>0.863229</td>\n",
       "      <td>-1.284881</td>\n",
       "      <td>-0.616901</td>\n",
       "      <td>-1.849256</td>\n",
       "      <td>2.542837</td>\n",
       "      <td>-1.473694</td>\n",
       "      <td>-0.675041</td>\n",
       "      <td>-1.395933</td>\n",
       "      <td>-1.603223</td>\n",
       "      <td>0.709417</td>\n",
       "    </tr>\n",
       "    <tr>\n",
       "      <th>2</th>\n",
       "      <td>3</td>\n",
       "      <td>11</td>\n",
       "      <td>0</td>\n",
       "      <td>0</td>\n",
       "      <td>0</td>\n",
       "      <td>0</td>\n",
       "      <td>0</td>\n",
       "      <td>1</td>\n",
       "      <td>0</td>\n",
       "      <td>0</td>\n",
       "      <td>...</td>\n",
       "      <td>1.048740</td>\n",
       "      <td>-1.166941</td>\n",
       "      <td>-0.893256</td>\n",
       "      <td>-0.691230</td>\n",
       "      <td>0.883045</td>\n",
       "      <td>-1.708273</td>\n",
       "      <td>-0.610211</td>\n",
       "      <td>1.747576</td>\n",
       "      <td>-1.071673</td>\n",
       "      <td>0.569261</td>\n",
       "    </tr>\n",
       "    <tr>\n",
       "      <th>3</th>\n",
       "      <td>3</td>\n",
       "      <td>11</td>\n",
       "      <td>0</td>\n",
       "      <td>0</td>\n",
       "      <td>0</td>\n",
       "      <td>0</td>\n",
       "      <td>0</td>\n",
       "      <td>1</td>\n",
       "      <td>1</td>\n",
       "      <td>0</td>\n",
       "      <td>...</td>\n",
       "      <td>0.384663</td>\n",
       "      <td>0.060498</td>\n",
       "      <td>-0.317936</td>\n",
       "      <td>1.000807</td>\n",
       "      <td>0.053150</td>\n",
       "      <td>0.168359</td>\n",
       "      <td>-0.475238</td>\n",
       "      <td>-0.986677</td>\n",
       "      <td>1.320301</td>\n",
       "      <td>-0.692145</td>\n",
       "    </tr>\n",
       "    <tr>\n",
       "      <th>4</th>\n",
       "      <td>2</td>\n",
       "      <td>2</td>\n",
       "      <td>0</td>\n",
       "      <td>1</td>\n",
       "      <td>0</td>\n",
       "      <td>0</td>\n",
       "      <td>0</td>\n",
       "      <td>1</td>\n",
       "      <td>1</td>\n",
       "      <td>0</td>\n",
       "      <td>...</td>\n",
       "      <td>0.169578</td>\n",
       "      <td>-1.246563</td>\n",
       "      <td>0.161653</td>\n",
       "      <td>0.691800</td>\n",
       "      <td>-0.776746</td>\n",
       "      <td>1.341254</td>\n",
       "      <td>0.658138</td>\n",
       "      <td>0.174057</td>\n",
       "      <td>1.408893</td>\n",
       "      <td>-0.551989</td>\n",
       "    </tr>\n",
       "  </tbody>\n",
       "</table>\n",
       "<p>5 rows × 50 columns</p>\n",
       "</div>"
      ],
      "text/plain": [
       "   grade  emp_length  loan_status  term_ 60 months  home_ownership_NONE  \\\n",
       "0      2          11            0                0                    0   \n",
       "1      3           1            1                1                    0   \n",
       "2      3          11            0                0                    0   \n",
       "3      3          11            0                0                    0   \n",
       "4      2           2            0                1                    0   \n",
       "\n",
       "   home_ownership_OTHER  home_ownership_OWN  home_ownership_RENT  \\\n",
       "0                     0                   0                    1   \n",
       "1                     0                   0                    1   \n",
       "2                     0                   0                    1   \n",
       "3                     0                   0                    1   \n",
       "4                     0                   0                    1   \n",
       "\n",
       "   verification_status_Source Verified  verification_status_Verified  ...  \\\n",
       "0                                    0                             1  ...   \n",
       "1                                    1                             0  ...   \n",
       "2                                    0                             0  ...   \n",
       "3                                    1                             0  ...   \n",
       "4                                    1                             0  ...   \n",
       "\n",
       "   int_rate  installment  annual_inc       dti  inq_last_6mths  open_acc  \\\n",
       "0 -0.378891    -0.788860   -0.710327  2.148332        0.053150 -1.473694   \n",
       "1  0.863229    -1.284881   -0.616901 -1.849256        2.542837 -1.473694   \n",
       "2  1.048740    -1.166941   -0.893256 -0.691230        0.883045 -1.708273   \n",
       "3  0.384663     0.060498   -0.317936  1.000807        0.053150  0.168359   \n",
       "4  0.169578    -1.246563    0.161653  0.691800       -0.776746  1.341254   \n",
       "\n",
       "   revol_bal  revol_util  total_acc  fico_average  \n",
       "0  -0.063984    1.225422  -1.160265      0.569261  \n",
       "1  -0.675041   -1.395933  -1.603223      0.709417  \n",
       "2  -0.610211    1.747576  -1.071673      0.569261  \n",
       "3  -0.475238   -0.986677   1.320301     -0.692145  \n",
       "4   0.658138    0.174057   1.408893     -0.551989  \n",
       "\n",
       "[5 rows x 50 columns]"
      ]
     },
     "execution_count": 71,
     "metadata": {},
     "output_type": "execute_result"
    }
   ],
   "source": [
    "#Importing dataset\n",
    "df=pd.read_csv('model_data.csv')\n",
    "df.head(5)"
   ]
  },
  {
   "cell_type": "code",
   "execution_count": 72,
   "metadata": {},
   "outputs": [
    {
     "data": {
      "text/plain": [
       "fico_average                           0\n",
       "purpose_educational                    0\n",
       "purpose_wedding                        0\n",
       "purpose_vacation                       0\n",
       "purpose_small_business                 0\n",
       "purpose_renewable_energy               0\n",
       "purpose_other                          0\n",
       "purpose_moving                         0\n",
       "purpose_medical                        0\n",
       "purpose_major_purchase                 0\n",
       "purpose_house                          0\n",
       "purpose_home_improvement               0\n",
       "purpose_debt_consolidation             0\n",
       "total_acc                              0\n",
       "purpose_credit_card                    0\n",
       "verification_status_Verified           0\n",
       "verification_status_Source Verified    0\n",
       "home_ownership_RENT                    0\n",
       "home_ownership_OWN                     0\n",
       "home_ownership_OTHER                   0\n",
       "home_ownership_NONE                    0\n",
       "term_ 60 months                        0\n",
       "loan_status                            0\n",
       "emp_length                             0\n",
       "delinq_2yrs_1                          0\n",
       "delinq_2yrs_2                          0\n",
       "delinq_2yrs_3                          0\n",
       "delinq_2yrs_4                          0\n",
       "revol_util                             0\n",
       "revol_bal                              0\n",
       "open_acc                               0\n",
       "inq_last_6mths                         0\n",
       "dti                                    0\n",
       "annual_inc                             0\n",
       "installment                            0\n",
       "int_rate                               0\n",
       "loan_amnt                              0\n",
       "pub_rec_bankruptcies_2.0               0\n",
       "pub_rec_bankruptcies_1.0               0\n",
       "pub_rec_4                              0\n",
       "pub_rec_3                              0\n",
       "pub_rec_2                              0\n",
       "pub_rec_1                              0\n",
       "delinq_2yrs_11                         0\n",
       "delinq_2yrs_9                          0\n",
       "delinq_2yrs_8                          0\n",
       "delinq_2yrs_7                          0\n",
       "delinq_2yrs_6                          0\n",
       "delinq_2yrs_5                          0\n",
       "grade                                  0\n",
       "dtype: int64"
      ]
     },
     "execution_count": 72,
     "metadata": {},
     "output_type": "execute_result"
    }
   ],
   "source": [
    "# Are there any missing values ?\n",
    "df.isnull().sum().sort_values(ascending=False)"
   ]
  },
  {
   "cell_type": "code",
   "execution_count": 73,
   "metadata": {},
   "outputs": [
    {
     "data": {
      "text/html": [
       "<div>\n",
       "<style scoped>\n",
       "    .dataframe tbody tr th:only-of-type {\n",
       "        vertical-align: middle;\n",
       "    }\n",
       "\n",
       "    .dataframe tbody tr th {\n",
       "        vertical-align: top;\n",
       "    }\n",
       "\n",
       "    .dataframe thead th {\n",
       "        text-align: right;\n",
       "    }\n",
       "</style>\n",
       "<table border=\"1\" class=\"dataframe\">\n",
       "  <thead>\n",
       "    <tr style=\"text-align: right;\">\n",
       "      <th></th>\n",
       "      <th>grade</th>\n",
       "      <th>emp_length</th>\n",
       "      <th>loan_status</th>\n",
       "      <th>term_ 60 months</th>\n",
       "      <th>home_ownership_NONE</th>\n",
       "      <th>home_ownership_OTHER</th>\n",
       "      <th>home_ownership_OWN</th>\n",
       "      <th>home_ownership_RENT</th>\n",
       "      <th>verification_status_Source Verified</th>\n",
       "      <th>verification_status_Verified</th>\n",
       "      <th>...</th>\n",
       "      <th>int_rate</th>\n",
       "      <th>installment</th>\n",
       "      <th>annual_inc</th>\n",
       "      <th>dti</th>\n",
       "      <th>inq_last_6mths</th>\n",
       "      <th>open_acc</th>\n",
       "      <th>revol_bal</th>\n",
       "      <th>revol_util</th>\n",
       "      <th>total_acc</th>\n",
       "      <th>fico_average</th>\n",
       "    </tr>\n",
       "  </thead>\n",
       "  <tbody>\n",
       "    <tr>\n",
       "      <th>count</th>\n",
       "      <td>38708.000000</td>\n",
       "      <td>38708.000000</td>\n",
       "      <td>38708.000000</td>\n",
       "      <td>38708.000000</td>\n",
       "      <td>38708.000000</td>\n",
       "      <td>38708.000000</td>\n",
       "      <td>38708.000000</td>\n",
       "      <td>38708.000000</td>\n",
       "      <td>38708.000000</td>\n",
       "      <td>38708.000000</td>\n",
       "      <td>...</td>\n",
       "      <td>3.870800e+04</td>\n",
       "      <td>3.870800e+04</td>\n",
       "      <td>3.870800e+04</td>\n",
       "      <td>3.870800e+04</td>\n",
       "      <td>3.870800e+04</td>\n",
       "      <td>3.870800e+04</td>\n",
       "      <td>3.870800e+04</td>\n",
       "      <td>3.870800e+04</td>\n",
       "      <td>3.870800e+04</td>\n",
       "      <td>3.870800e+04</td>\n",
       "    </tr>\n",
       "    <tr>\n",
       "      <th>mean</th>\n",
       "      <td>2.589723</td>\n",
       "      <td>5.974346</td>\n",
       "      <td>0.140539</td>\n",
       "      <td>0.269221</td>\n",
       "      <td>0.000078</td>\n",
       "      <td>0.002532</td>\n",
       "      <td>0.073499</td>\n",
       "      <td>0.478118</td>\n",
       "      <td>0.253668</td>\n",
       "      <td>0.320011</td>\n",
       "      <td>...</td>\n",
       "      <td>5.902802e-15</td>\n",
       "      <td>-5.769801e-16</td>\n",
       "      <td>-2.972431e-16</td>\n",
       "      <td>1.122757e-17</td>\n",
       "      <td>3.620679e-15</td>\n",
       "      <td>2.739246e-16</td>\n",
       "      <td>7.079005e-17</td>\n",
       "      <td>-1.469712e-15</td>\n",
       "      <td>-2.640947e-15</td>\n",
       "      <td>4.290025e-16</td>\n",
       "    </tr>\n",
       "    <tr>\n",
       "      <th>std</th>\n",
       "      <td>1.390201</td>\n",
       "      <td>3.562961</td>\n",
       "      <td>0.347550</td>\n",
       "      <td>0.443561</td>\n",
       "      <td>0.008803</td>\n",
       "      <td>0.050254</td>\n",
       "      <td>0.260957</td>\n",
       "      <td>0.499527</td>\n",
       "      <td>0.435116</td>\n",
       "      <td>0.466487</td>\n",
       "      <td>...</td>\n",
       "      <td>1.000013e+00</td>\n",
       "      <td>1.000013e+00</td>\n",
       "      <td>1.000013e+00</td>\n",
       "      <td>1.000013e+00</td>\n",
       "      <td>1.000013e+00</td>\n",
       "      <td>1.000013e+00</td>\n",
       "      <td>1.000013e+00</td>\n",
       "      <td>1.000013e+00</td>\n",
       "      <td>1.000013e+00</td>\n",
       "      <td>1.000013e+00</td>\n",
       "    </tr>\n",
       "    <tr>\n",
       "      <th>min</th>\n",
       "      <td>1.000000</td>\n",
       "      <td>1.000000</td>\n",
       "      <td>0.000000</td>\n",
       "      <td>0.000000</td>\n",
       "      <td>0.000000</td>\n",
       "      <td>0.000000</td>\n",
       "      <td>0.000000</td>\n",
       "      <td>0.000000</td>\n",
       "      <td>0.000000</td>\n",
       "      <td>0.000000</td>\n",
       "      <td>...</td>\n",
       "      <td>-1.785013e+00</td>\n",
       "      <td>-1.497365e+00</td>\n",
       "      <td>-1.021749e+00</td>\n",
       "      <td>-1.999259e+00</td>\n",
       "      <td>-7.767463e-01</td>\n",
       "      <td>-1.708273e+00</td>\n",
       "      <td>-7.612257e-01</td>\n",
       "      <td>-1.727572e+00</td>\n",
       "      <td>-1.780407e+00</td>\n",
       "      <td>-2.514176e+00</td>\n",
       "    </tr>\n",
       "    <tr>\n",
       "      <th>25%</th>\n",
       "      <td>1.000000</td>\n",
       "      <td>3.000000</td>\n",
       "      <td>0.000000</td>\n",
       "      <td>0.000000</td>\n",
       "      <td>0.000000</td>\n",
       "      <td>0.000000</td>\n",
       "      <td>0.000000</td>\n",
       "      <td>0.000000</td>\n",
       "      <td>0.000000</td>\n",
       "      <td>0.000000</td>\n",
       "      <td>...</td>\n",
       "      <td>-7.364705e-01</td>\n",
       "      <td>-7.619989e-01</td>\n",
       "      <td>-4.378955e-01</td>\n",
       "      <td>-7.677319e-01</td>\n",
       "      <td>-7.767463e-01</td>\n",
       "      <td>-7.699571e-01</td>\n",
       "      <td>-5.698136e-01</td>\n",
       "      <td>-8.243862e-01</td>\n",
       "      <td>-7.173068e-01</td>\n",
       "      <td>-8.323015e-01</td>\n",
       "    </tr>\n",
       "    <tr>\n",
       "      <th>50%</th>\n",
       "      <td>2.000000</td>\n",
       "      <td>5.000000</td>\n",
       "      <td>0.000000</td>\n",
       "      <td>0.000000</td>\n",
       "      <td>0.000000</td>\n",
       "      <td>0.000000</td>\n",
       "      <td>0.000000</td>\n",
       "      <td>0.000000</td>\n",
       "      <td>0.000000</td>\n",
       "      <td>0.000000</td>\n",
       "      <td>...</td>\n",
       "      <td>-5.357353e-02</td>\n",
       "      <td>-2.097042e-01</td>\n",
       "      <td>-1.497682e-01</td>\n",
       "      <td>1.378524e-02</td>\n",
       "      <td>5.314952e-02</td>\n",
       "      <td>-6.622003e-02</td>\n",
       "      <td>-3.039926e-01</td>\n",
       "      <td>1.882218e-02</td>\n",
       "      <td>-1.857568e-01</td>\n",
       "      <td>-1.315205e-01</td>\n",
       "    </tr>\n",
       "    <tr>\n",
       "      <th>75%</th>\n",
       "      <td>3.000000</td>\n",
       "      <td>10.000000</td>\n",
       "      <td>0.000000</td>\n",
       "      <td>1.000000</td>\n",
       "      <td>0.000000</td>\n",
       "      <td>0.000000</td>\n",
       "      <td>0.000000</td>\n",
       "      <td>1.000000</td>\n",
       "      <td>1.000000</td>\n",
       "      <td>1.000000</td>\n",
       "      <td>...</td>\n",
       "      <td>6.804062e-01</td>\n",
       "      <td>5.199333e-01</td>\n",
       "      <td>2.114809e-01</td>\n",
       "      <td>7.893022e-01</td>\n",
       "      <td>5.314952e-02</td>\n",
       "      <td>6.375171e-01</td>\n",
       "      <td>1.153463e-01</td>\n",
       "      <td>8.302779e-01</td>\n",
       "      <td>6.115681e-01</td>\n",
       "      <td>7.094168e-01</td>\n",
       "    </tr>\n",
       "    <tr>\n",
       "      <th>max</th>\n",
       "      <td>7.000000</td>\n",
       "      <td>11.000000</td>\n",
       "      <td>1.000000</td>\n",
       "      <td>1.000000</td>\n",
       "      <td>1.000000</td>\n",
       "      <td>1.000000</td>\n",
       "      <td>1.000000</td>\n",
       "      <td>1.000000</td>\n",
       "      <td>1.000000</td>\n",
       "      <td>1.000000</td>\n",
       "      <td>...</td>\n",
       "      <td>3.368977e+00</td>\n",
       "      <td>2.914446e+00</td>\n",
       "      <td>9.234246e+01</td>\n",
       "      <td>2.499340e+00</td>\n",
       "      <td>2.542837e+00</td>\n",
       "      <td>2.983307e+00</td>\n",
       "      <td>3.495042e+00</td>\n",
       "      <td>1.796969e+00</td>\n",
       "      <td>3.003543e+00</td>\n",
       "      <td>3.092072e+00</td>\n",
       "    </tr>\n",
       "  </tbody>\n",
       "</table>\n",
       "<p>8 rows × 50 columns</p>\n",
       "</div>"
      ],
      "text/plain": [
       "              grade    emp_length   loan_status  term_ 60 months  \\\n",
       "count  38708.000000  38708.000000  38708.000000     38708.000000   \n",
       "mean       2.589723      5.974346      0.140539         0.269221   \n",
       "std        1.390201      3.562961      0.347550         0.443561   \n",
       "min        1.000000      1.000000      0.000000         0.000000   \n",
       "25%        1.000000      3.000000      0.000000         0.000000   \n",
       "50%        2.000000      5.000000      0.000000         0.000000   \n",
       "75%        3.000000     10.000000      0.000000         1.000000   \n",
       "max        7.000000     11.000000      1.000000         1.000000   \n",
       "\n",
       "       home_ownership_NONE  home_ownership_OTHER  home_ownership_OWN  \\\n",
       "count         38708.000000          38708.000000        38708.000000   \n",
       "mean              0.000078              0.002532            0.073499   \n",
       "std               0.008803              0.050254            0.260957   \n",
       "min               0.000000              0.000000            0.000000   \n",
       "25%               0.000000              0.000000            0.000000   \n",
       "50%               0.000000              0.000000            0.000000   \n",
       "75%               0.000000              0.000000            0.000000   \n",
       "max               1.000000              1.000000            1.000000   \n",
       "\n",
       "       home_ownership_RENT  verification_status_Source Verified  \\\n",
       "count         38708.000000                         38708.000000   \n",
       "mean              0.478118                             0.253668   \n",
       "std               0.499527                             0.435116   \n",
       "min               0.000000                             0.000000   \n",
       "25%               0.000000                             0.000000   \n",
       "50%               0.000000                             0.000000   \n",
       "75%               1.000000                             1.000000   \n",
       "max               1.000000                             1.000000   \n",
       "\n",
       "       verification_status_Verified  ...      int_rate   installment  \\\n",
       "count                  38708.000000  ...  3.870800e+04  3.870800e+04   \n",
       "mean                       0.320011  ...  5.902802e-15 -5.769801e-16   \n",
       "std                        0.466487  ...  1.000013e+00  1.000013e+00   \n",
       "min                        0.000000  ... -1.785013e+00 -1.497365e+00   \n",
       "25%                        0.000000  ... -7.364705e-01 -7.619989e-01   \n",
       "50%                        0.000000  ... -5.357353e-02 -2.097042e-01   \n",
       "75%                        1.000000  ...  6.804062e-01  5.199333e-01   \n",
       "max                        1.000000  ...  3.368977e+00  2.914446e+00   \n",
       "\n",
       "         annual_inc           dti  inq_last_6mths      open_acc     revol_bal  \\\n",
       "count  3.870800e+04  3.870800e+04    3.870800e+04  3.870800e+04  3.870800e+04   \n",
       "mean  -2.972431e-16  1.122757e-17    3.620679e-15  2.739246e-16  7.079005e-17   \n",
       "std    1.000013e+00  1.000013e+00    1.000013e+00  1.000013e+00  1.000013e+00   \n",
       "min   -1.021749e+00 -1.999259e+00   -7.767463e-01 -1.708273e+00 -7.612257e-01   \n",
       "25%   -4.378955e-01 -7.677319e-01   -7.767463e-01 -7.699571e-01 -5.698136e-01   \n",
       "50%   -1.497682e-01  1.378524e-02    5.314952e-02 -6.622003e-02 -3.039926e-01   \n",
       "75%    2.114809e-01  7.893022e-01    5.314952e-02  6.375171e-01  1.153463e-01   \n",
       "max    9.234246e+01  2.499340e+00    2.542837e+00  2.983307e+00  3.495042e+00   \n",
       "\n",
       "         revol_util     total_acc  fico_average  \n",
       "count  3.870800e+04  3.870800e+04  3.870800e+04  \n",
       "mean  -1.469712e-15 -2.640947e-15  4.290025e-16  \n",
       "std    1.000013e+00  1.000013e+00  1.000013e+00  \n",
       "min   -1.727572e+00 -1.780407e+00 -2.514176e+00  \n",
       "25%   -8.243862e-01 -7.173068e-01 -8.323015e-01  \n",
       "50%    1.882218e-02 -1.857568e-01 -1.315205e-01  \n",
       "75%    8.302779e-01  6.115681e-01  7.094168e-01  \n",
       "max    1.796969e+00  3.003543e+00  3.092072e+00  \n",
       "\n",
       "[8 rows x 50 columns]"
      ]
     },
     "execution_count": 73,
     "metadata": {},
     "output_type": "execute_result"
    }
   ],
   "source": [
    "#summary of data\n",
    "df.describe()"
   ]
  },
  {
   "cell_type": "code",
   "execution_count": 74,
   "metadata": {},
   "outputs": [
    {
     "data": {
      "text/plain": [
       "(38708, 50)"
      ]
     },
     "execution_count": 74,
     "metadata": {},
     "output_type": "execute_result"
    }
   ],
   "source": [
    "#Determining the shape of the dataset\n",
    "df.shape"
   ]
  },
  {
   "cell_type": "code",
   "execution_count": 75,
   "metadata": {},
   "outputs": [
    {
     "data": {
      "text/plain": [
       "grade                                    int64\n",
       "emp_length                               int64\n",
       "loan_status                              int64\n",
       "term_ 60 months                          int64\n",
       "home_ownership_NONE                      int64\n",
       "home_ownership_OTHER                     int64\n",
       "home_ownership_OWN                       int64\n",
       "home_ownership_RENT                      int64\n",
       "verification_status_Source Verified      int64\n",
       "verification_status_Verified             int64\n",
       "purpose_credit_card                      int64\n",
       "purpose_debt_consolidation               int64\n",
       "purpose_educational                      int64\n",
       "purpose_home_improvement                 int64\n",
       "purpose_house                            int64\n",
       "purpose_major_purchase                   int64\n",
       "purpose_medical                          int64\n",
       "purpose_moving                           int64\n",
       "purpose_other                            int64\n",
       "purpose_renewable_energy                 int64\n",
       "purpose_small_business                   int64\n",
       "purpose_vacation                         int64\n",
       "purpose_wedding                          int64\n",
       "delinq_2yrs_1                            int64\n",
       "delinq_2yrs_2                            int64\n",
       "delinq_2yrs_3                            int64\n",
       "delinq_2yrs_4                            int64\n",
       "delinq_2yrs_5                            int64\n",
       "delinq_2yrs_6                            int64\n",
       "delinq_2yrs_7                            int64\n",
       "delinq_2yrs_8                            int64\n",
       "delinq_2yrs_9                            int64\n",
       "delinq_2yrs_11                           int64\n",
       "pub_rec_1                                int64\n",
       "pub_rec_2                                int64\n",
       "pub_rec_3                                int64\n",
       "pub_rec_4                                int64\n",
       "pub_rec_bankruptcies_1.0                 int64\n",
       "pub_rec_bankruptcies_2.0                 int64\n",
       "loan_amnt                              float64\n",
       "int_rate                               float64\n",
       "installment                            float64\n",
       "annual_inc                             float64\n",
       "dti                                    float64\n",
       "inq_last_6mths                         float64\n",
       "open_acc                               float64\n",
       "revol_bal                              float64\n",
       "revol_util                             float64\n",
       "total_acc                              float64\n",
       "fico_average                           float64\n",
       "dtype: object"
      ]
     },
     "execution_count": 75,
     "metadata": {},
     "output_type": "execute_result"
    }
   ],
   "source": [
    "#Datatypes of the datafeature\n",
    "df.dtypes"
   ]
  },
  {
   "cell_type": "markdown",
   "metadata": {},
   "source": [
    "### Model preparation"
   ]
  },
  {
   "cell_type": "code",
   "execution_count": 76,
   "metadata": {},
   "outputs": [],
   "source": [
    "X=df.drop(['loan_status'],axis=1)\n",
    "y=df['loan_status']"
   ]
  },
  {
   "cell_type": "code",
   "execution_count": 77,
   "metadata": {},
   "outputs": [
    {
     "data": {
      "text/plain": [
       "(38708, 49)"
      ]
     },
     "execution_count": 77,
     "metadata": {},
     "output_type": "execute_result"
    }
   ],
   "source": [
    "#Checking x shape\n",
    "X.shape"
   ]
  },
  {
   "cell_type": "code",
   "execution_count": 78,
   "metadata": {},
   "outputs": [
    {
     "data": {
      "text/plain": [
       "(38708,)"
      ]
     },
     "execution_count": 78,
     "metadata": {},
     "output_type": "execute_result"
    }
   ],
   "source": [
    "#Checking y shape\n",
    "y.shape"
   ]
  },
  {
   "cell_type": "markdown",
   "metadata": {},
   "source": [
    "### Decision Tree"
   ]
  },
  {
   "cell_type": "code",
   "execution_count": 79,
   "metadata": {},
   "outputs": [
    {
     "data": {
      "text/plain": [
       "DecisionTreeClassifier(criterion='entropy', max_depth=14, random_state=12)"
      ]
     },
     "execution_count": 79,
     "metadata": {},
     "output_type": "execute_result"
    }
   ],
   "source": [
    "dt =DecisionTreeClassifier(criterion='entropy',random_state=12,max_depth=14)\n",
    "dt.fit(X, y)"
   ]
  },
  {
   "cell_type": "code",
   "execution_count": 80,
   "metadata": {},
   "outputs": [
    {
     "data": {
      "text/html": [
       "<div>\n",
       "<style scoped>\n",
       "    .dataframe tbody tr th:only-of-type {\n",
       "        vertical-align: middle;\n",
       "    }\n",
       "\n",
       "    .dataframe tbody tr th {\n",
       "        vertical-align: top;\n",
       "    }\n",
       "\n",
       "    .dataframe thead th {\n",
       "        text-align: right;\n",
       "    }\n",
       "</style>\n",
       "<table border=\"1\" class=\"dataframe\">\n",
       "  <thead>\n",
       "    <tr style=\"text-align: right;\">\n",
       "      <th></th>\n",
       "      <th>index</th>\n",
       "      <th>columns</th>\n",
       "      <th>fi</th>\n",
       "    </tr>\n",
       "  </thead>\n",
       "  <tbody>\n",
       "    <tr>\n",
       "      <th>0</th>\n",
       "      <td>39</td>\n",
       "      <td>int_rate</td>\n",
       "      <td>0.169074</td>\n",
       "    </tr>\n",
       "    <tr>\n",
       "      <th>1</th>\n",
       "      <td>41</td>\n",
       "      <td>annual_inc</td>\n",
       "      <td>0.099173</td>\n",
       "    </tr>\n",
       "    <tr>\n",
       "      <th>2</th>\n",
       "      <td>46</td>\n",
       "      <td>revol_util</td>\n",
       "      <td>0.096116</td>\n",
       "    </tr>\n",
       "    <tr>\n",
       "      <th>3</th>\n",
       "      <td>42</td>\n",
       "      <td>dti</td>\n",
       "      <td>0.090069</td>\n",
       "    </tr>\n",
       "    <tr>\n",
       "      <th>4</th>\n",
       "      <td>45</td>\n",
       "      <td>revol_bal</td>\n",
       "      <td>0.082426</td>\n",
       "    </tr>\n",
       "    <tr>\n",
       "      <th>5</th>\n",
       "      <td>40</td>\n",
       "      <td>installment</td>\n",
       "      <td>0.074043</td>\n",
       "    </tr>\n",
       "    <tr>\n",
       "      <th>6</th>\n",
       "      <td>47</td>\n",
       "      <td>total_acc</td>\n",
       "      <td>0.069386</td>\n",
       "    </tr>\n",
       "    <tr>\n",
       "      <th>7</th>\n",
       "      <td>44</td>\n",
       "      <td>open_acc</td>\n",
       "      <td>0.043685</td>\n",
       "    </tr>\n",
       "    <tr>\n",
       "      <th>8</th>\n",
       "      <td>48</td>\n",
       "      <td>fico_average</td>\n",
       "      <td>0.043645</td>\n",
       "    </tr>\n",
       "    <tr>\n",
       "      <th>9</th>\n",
       "      <td>1</td>\n",
       "      <td>emp_length</td>\n",
       "      <td>0.037167</td>\n",
       "    </tr>\n",
       "    <tr>\n",
       "      <th>10</th>\n",
       "      <td>38</td>\n",
       "      <td>loan_amnt</td>\n",
       "      <td>0.033148</td>\n",
       "    </tr>\n",
       "    <tr>\n",
       "      <th>11</th>\n",
       "      <td>2</td>\n",
       "      <td>term_ 60 months</td>\n",
       "      <td>0.027742</td>\n",
       "    </tr>\n",
       "    <tr>\n",
       "      <th>12</th>\n",
       "      <td>43</td>\n",
       "      <td>inq_last_6mths</td>\n",
       "      <td>0.025205</td>\n",
       "    </tr>\n",
       "    <tr>\n",
       "      <th>13</th>\n",
       "      <td>19</td>\n",
       "      <td>purpose_small_business</td>\n",
       "      <td>0.016158</td>\n",
       "    </tr>\n",
       "    <tr>\n",
       "      <th>14</th>\n",
       "      <td>0</td>\n",
       "      <td>grade</td>\n",
       "      <td>0.011687</td>\n",
       "    </tr>\n",
       "    <tr>\n",
       "      <th>15</th>\n",
       "      <td>6</td>\n",
       "      <td>home_ownership_RENT</td>\n",
       "      <td>0.007745</td>\n",
       "    </tr>\n",
       "    <tr>\n",
       "      <th>16</th>\n",
       "      <td>10</td>\n",
       "      <td>purpose_debt_consolidation</td>\n",
       "      <td>0.007400</td>\n",
       "    </tr>\n",
       "    <tr>\n",
       "      <th>17</th>\n",
       "      <td>5</td>\n",
       "      <td>home_ownership_OWN</td>\n",
       "      <td>0.006937</td>\n",
       "    </tr>\n",
       "    <tr>\n",
       "      <th>18</th>\n",
       "      <td>9</td>\n",
       "      <td>purpose_credit_card</td>\n",
       "      <td>0.006198</td>\n",
       "    </tr>\n",
       "    <tr>\n",
       "      <th>19</th>\n",
       "      <td>17</td>\n",
       "      <td>purpose_other</td>\n",
       "      <td>0.006000</td>\n",
       "    </tr>\n",
       "    <tr>\n",
       "      <th>20</th>\n",
       "      <td>7</td>\n",
       "      <td>verification_status_Source Verified</td>\n",
       "      <td>0.005803</td>\n",
       "    </tr>\n",
       "    <tr>\n",
       "      <th>21</th>\n",
       "      <td>22</td>\n",
       "      <td>delinq_2yrs_1</td>\n",
       "      <td>0.005267</td>\n",
       "    </tr>\n",
       "    <tr>\n",
       "      <th>22</th>\n",
       "      <td>36</td>\n",
       "      <td>pub_rec_bankruptcies_1.0</td>\n",
       "      <td>0.005148</td>\n",
       "    </tr>\n",
       "    <tr>\n",
       "      <th>23</th>\n",
       "      <td>14</td>\n",
       "      <td>purpose_major_purchase</td>\n",
       "      <td>0.004937</td>\n",
       "    </tr>\n",
       "    <tr>\n",
       "      <th>24</th>\n",
       "      <td>8</td>\n",
       "      <td>verification_status_Verified</td>\n",
       "      <td>0.004071</td>\n",
       "    </tr>\n",
       "    <tr>\n",
       "      <th>25</th>\n",
       "      <td>32</td>\n",
       "      <td>pub_rec_1</td>\n",
       "      <td>0.004029</td>\n",
       "    </tr>\n",
       "    <tr>\n",
       "      <th>26</th>\n",
       "      <td>12</td>\n",
       "      <td>purpose_home_improvement</td>\n",
       "      <td>0.003313</td>\n",
       "    </tr>\n",
       "    <tr>\n",
       "      <th>27</th>\n",
       "      <td>15</td>\n",
       "      <td>purpose_medical</td>\n",
       "      <td>0.002395</td>\n",
       "    </tr>\n",
       "    <tr>\n",
       "      <th>28</th>\n",
       "      <td>20</td>\n",
       "      <td>purpose_vacation</td>\n",
       "      <td>0.002044</td>\n",
       "    </tr>\n",
       "    <tr>\n",
       "      <th>29</th>\n",
       "      <td>16</td>\n",
       "      <td>purpose_moving</td>\n",
       "      <td>0.001777</td>\n",
       "    </tr>\n",
       "    <tr>\n",
       "      <th>30</th>\n",
       "      <td>21</td>\n",
       "      <td>purpose_wedding</td>\n",
       "      <td>0.001431</td>\n",
       "    </tr>\n",
       "    <tr>\n",
       "      <th>31</th>\n",
       "      <td>23</td>\n",
       "      <td>delinq_2yrs_2</td>\n",
       "      <td>0.001368</td>\n",
       "    </tr>\n",
       "    <tr>\n",
       "      <th>32</th>\n",
       "      <td>33</td>\n",
       "      <td>pub_rec_2</td>\n",
       "      <td>0.001261</td>\n",
       "    </tr>\n",
       "    <tr>\n",
       "      <th>33</th>\n",
       "      <td>18</td>\n",
       "      <td>purpose_renewable_energy</td>\n",
       "      <td>0.001194</td>\n",
       "    </tr>\n",
       "    <tr>\n",
       "      <th>34</th>\n",
       "      <td>24</td>\n",
       "      <td>delinq_2yrs_3</td>\n",
       "      <td>0.001194</td>\n",
       "    </tr>\n",
       "    <tr>\n",
       "      <th>35</th>\n",
       "      <td>25</td>\n",
       "      <td>delinq_2yrs_4</td>\n",
       "      <td>0.000787</td>\n",
       "    </tr>\n",
       "    <tr>\n",
       "      <th>36</th>\n",
       "      <td>11</td>\n",
       "      <td>purpose_educational</td>\n",
       "      <td>0.000545</td>\n",
       "    </tr>\n",
       "    <tr>\n",
       "      <th>37</th>\n",
       "      <td>4</td>\n",
       "      <td>home_ownership_OTHER</td>\n",
       "      <td>0.000432</td>\n",
       "    </tr>\n",
       "    <tr>\n",
       "      <th>38</th>\n",
       "      <td>3</td>\n",
       "      <td>home_ownership_NONE</td>\n",
       "      <td>0.000000</td>\n",
       "    </tr>\n",
       "    <tr>\n",
       "      <th>39</th>\n",
       "      <td>13</td>\n",
       "      <td>purpose_house</td>\n",
       "      <td>0.000000</td>\n",
       "    </tr>\n",
       "    <tr>\n",
       "      <th>40</th>\n",
       "      <td>28</td>\n",
       "      <td>delinq_2yrs_7</td>\n",
       "      <td>0.000000</td>\n",
       "    </tr>\n",
       "    <tr>\n",
       "      <th>41</th>\n",
       "      <td>29</td>\n",
       "      <td>delinq_2yrs_8</td>\n",
       "      <td>0.000000</td>\n",
       "    </tr>\n",
       "    <tr>\n",
       "      <th>42</th>\n",
       "      <td>37</td>\n",
       "      <td>pub_rec_bankruptcies_2.0</td>\n",
       "      <td>0.000000</td>\n",
       "    </tr>\n",
       "    <tr>\n",
       "      <th>43</th>\n",
       "      <td>27</td>\n",
       "      <td>delinq_2yrs_6</td>\n",
       "      <td>0.000000</td>\n",
       "    </tr>\n",
       "    <tr>\n",
       "      <th>44</th>\n",
       "      <td>35</td>\n",
       "      <td>pub_rec_4</td>\n",
       "      <td>0.000000</td>\n",
       "    </tr>\n",
       "    <tr>\n",
       "      <th>45</th>\n",
       "      <td>34</td>\n",
       "      <td>pub_rec_3</td>\n",
       "      <td>0.000000</td>\n",
       "    </tr>\n",
       "    <tr>\n",
       "      <th>46</th>\n",
       "      <td>31</td>\n",
       "      <td>delinq_2yrs_11</td>\n",
       "      <td>0.000000</td>\n",
       "    </tr>\n",
       "    <tr>\n",
       "      <th>47</th>\n",
       "      <td>30</td>\n",
       "      <td>delinq_2yrs_9</td>\n",
       "      <td>0.000000</td>\n",
       "    </tr>\n",
       "    <tr>\n",
       "      <th>48</th>\n",
       "      <td>26</td>\n",
       "      <td>delinq_2yrs_5</td>\n",
       "      <td>0.000000</td>\n",
       "    </tr>\n",
       "  </tbody>\n",
       "</table>\n",
       "</div>"
      ],
      "text/plain": [
       "    index                              columns        fi\n",
       "0      39                             int_rate  0.169074\n",
       "1      41                           annual_inc  0.099173\n",
       "2      46                           revol_util  0.096116\n",
       "3      42                                  dti  0.090069\n",
       "4      45                            revol_bal  0.082426\n",
       "5      40                          installment  0.074043\n",
       "6      47                            total_acc  0.069386\n",
       "7      44                             open_acc  0.043685\n",
       "8      48                         fico_average  0.043645\n",
       "9       1                           emp_length  0.037167\n",
       "10     38                            loan_amnt  0.033148\n",
       "11      2                      term_ 60 months  0.027742\n",
       "12     43                       inq_last_6mths  0.025205\n",
       "13     19               purpose_small_business  0.016158\n",
       "14      0                                grade  0.011687\n",
       "15      6                  home_ownership_RENT  0.007745\n",
       "16     10           purpose_debt_consolidation  0.007400\n",
       "17      5                   home_ownership_OWN  0.006937\n",
       "18      9                  purpose_credit_card  0.006198\n",
       "19     17                        purpose_other  0.006000\n",
       "20      7  verification_status_Source Verified  0.005803\n",
       "21     22                        delinq_2yrs_1  0.005267\n",
       "22     36             pub_rec_bankruptcies_1.0  0.005148\n",
       "23     14               purpose_major_purchase  0.004937\n",
       "24      8         verification_status_Verified  0.004071\n",
       "25     32                            pub_rec_1  0.004029\n",
       "26     12             purpose_home_improvement  0.003313\n",
       "27     15                      purpose_medical  0.002395\n",
       "28     20                     purpose_vacation  0.002044\n",
       "29     16                       purpose_moving  0.001777\n",
       "30     21                      purpose_wedding  0.001431\n",
       "31     23                        delinq_2yrs_2  0.001368\n",
       "32     33                            pub_rec_2  0.001261\n",
       "33     18             purpose_renewable_energy  0.001194\n",
       "34     24                        delinq_2yrs_3  0.001194\n",
       "35     25                        delinq_2yrs_4  0.000787\n",
       "36     11                  purpose_educational  0.000545\n",
       "37      4                 home_ownership_OTHER  0.000432\n",
       "38      3                  home_ownership_NONE  0.000000\n",
       "39     13                        purpose_house  0.000000\n",
       "40     28                        delinq_2yrs_7  0.000000\n",
       "41     29                        delinq_2yrs_8  0.000000\n",
       "42     37             pub_rec_bankruptcies_2.0  0.000000\n",
       "43     27                        delinq_2yrs_6  0.000000\n",
       "44     35                            pub_rec_4  0.000000\n",
       "45     34                            pub_rec_3  0.000000\n",
       "46     31                       delinq_2yrs_11  0.000000\n",
       "47     30                        delinq_2yrs_9  0.000000\n",
       "48     26                        delinq_2yrs_5  0.000000"
      ]
     },
     "execution_count": 80,
     "metadata": {},
     "output_type": "execute_result"
    }
   ],
   "source": [
    "#getting feature importance\n",
    "col=[]\n",
    "fi=[]\n",
    "for i,column in enumerate(X):\n",
    "    col.append(column)\n",
    "    fi.append(dt.feature_importances_[i])\n",
    "data=pd.DataFrame({'columns':col,'fi':fi})\n",
    "data=data.sort_values('fi',ascending=False).reset_index()\n",
    "data"
   ]
  },
  {
   "cell_type": "code",
   "execution_count": 81,
   "metadata": {},
   "outputs": [],
   "source": [
    "#feteching columns with importance\n",
    "imp=data['columns'][0:34]"
   ]
  },
  {
   "cell_type": "code",
   "execution_count": 82,
   "metadata": {},
   "outputs": [
    {
     "data": {
      "text/plain": [
       "(38708, 49)"
      ]
     },
     "execution_count": 82,
     "metadata": {},
     "output_type": "execute_result"
    }
   ],
   "source": [
    "X.shape"
   ]
  },
  {
   "cell_type": "code",
   "execution_count": 83,
   "metadata": {},
   "outputs": [
    {
     "data": {
      "text/plain": [
       "(38708, 34)"
      ]
     },
     "execution_count": 83,
     "metadata": {},
     "output_type": "execute_result"
    }
   ],
   "source": [
    "X[imp].shape"
   ]
  },
  {
   "cell_type": "code",
   "execution_count": 84,
   "metadata": {},
   "outputs": [
    {
     "data": {
      "text/plain": [
       "(38708, 34)"
      ]
     },
     "execution_count": 84,
     "metadata": {},
     "output_type": "execute_result"
    }
   ],
   "source": [
    "#taking only the columns that are important\n",
    "X=X[imp]\n",
    "X.shape"
   ]
  },
  {
   "cell_type": "markdown",
   "metadata": {},
   "source": [
    "### Checking for multicollinearity using vif"
   ]
  },
  {
   "cell_type": "code",
   "execution_count": 85,
   "metadata": {},
   "outputs": [
    {
     "data": {
      "text/html": [
       "<div>\n",
       "<style scoped>\n",
       "    .dataframe tbody tr th:only-of-type {\n",
       "        vertical-align: middle;\n",
       "    }\n",
       "\n",
       "    .dataframe tbody tr th {\n",
       "        vertical-align: top;\n",
       "    }\n",
       "\n",
       "    .dataframe thead th {\n",
       "        text-align: right;\n",
       "    }\n",
       "</style>\n",
       "<table border=\"1\" class=\"dataframe\">\n",
       "  <thead>\n",
       "    <tr style=\"text-align: right;\">\n",
       "      <th></th>\n",
       "      <th>columns</th>\n",
       "      <th>vif</th>\n",
       "    </tr>\n",
       "  </thead>\n",
       "  <tbody>\n",
       "    <tr>\n",
       "      <th>14</th>\n",
       "      <td>grade</td>\n",
       "      <td>19.474723</td>\n",
       "    </tr>\n",
       "    <tr>\n",
       "      <th>10</th>\n",
       "      <td>loan_amnt</td>\n",
       "      <td>16.870994</td>\n",
       "    </tr>\n",
       "    <tr>\n",
       "      <th>5</th>\n",
       "      <td>installment</td>\n",
       "      <td>15.193367</td>\n",
       "    </tr>\n",
       "    <tr>\n",
       "      <th>0</th>\n",
       "      <td>int_rate</td>\n",
       "      <td>7.479598</td>\n",
       "    </tr>\n",
       "    <tr>\n",
       "      <th>16</th>\n",
       "      <td>purpose_debt_consolidation</td>\n",
       "      <td>7.264601</td>\n",
       "    </tr>\n",
       "    <tr>\n",
       "      <th>25</th>\n",
       "      <td>pub_rec_1</td>\n",
       "      <td>5.330661</td>\n",
       "    </tr>\n",
       "    <tr>\n",
       "      <th>22</th>\n",
       "      <td>pub_rec_bankruptcies_1.0</td>\n",
       "      <td>5.227208</td>\n",
       "    </tr>\n",
       "    <tr>\n",
       "      <th>11</th>\n",
       "      <td>term_ 60 months</td>\n",
       "      <td>4.422540</td>\n",
       "    </tr>\n",
       "    <tr>\n",
       "      <th>8</th>\n",
       "      <td>fico_average</td>\n",
       "      <td>4.121556</td>\n",
       "    </tr>\n",
       "    <tr>\n",
       "      <th>9</th>\n",
       "      <td>emp_length</td>\n",
       "      <td>4.046506</td>\n",
       "    </tr>\n",
       "    <tr>\n",
       "      <th>18</th>\n",
       "      <td>purpose_credit_card</td>\n",
       "      <td>2.687820</td>\n",
       "    </tr>\n",
       "    <tr>\n",
       "      <th>15</th>\n",
       "      <td>home_ownership_RENT</td>\n",
       "      <td>2.566235</td>\n",
       "    </tr>\n",
       "    <tr>\n",
       "      <th>6</th>\n",
       "      <td>total_acc</td>\n",
       "      <td>2.275401</td>\n",
       "    </tr>\n",
       "    <tr>\n",
       "      <th>19</th>\n",
       "      <td>purpose_other</td>\n",
       "      <td>2.232022</td>\n",
       "    </tr>\n",
       "    <tr>\n",
       "      <th>7</th>\n",
       "      <td>open_acc</td>\n",
       "      <td>2.173021</td>\n",
       "    </tr>\n",
       "    <tr>\n",
       "      <th>24</th>\n",
       "      <td>verification_status_Verified</td>\n",
       "      <td>2.161775</td>\n",
       "    </tr>\n",
       "    <tr>\n",
       "      <th>26</th>\n",
       "      <td>purpose_home_improvement</td>\n",
       "      <td>1.968417</td>\n",
       "    </tr>\n",
       "    <tr>\n",
       "      <th>2</th>\n",
       "      <td>revol_util</td>\n",
       "      <td>1.962447</td>\n",
       "    </tr>\n",
       "    <tr>\n",
       "      <th>23</th>\n",
       "      <td>purpose_major_purchase</td>\n",
       "      <td>1.711290</td>\n",
       "    </tr>\n",
       "    <tr>\n",
       "      <th>13</th>\n",
       "      <td>purpose_small_business</td>\n",
       "      <td>1.634011</td>\n",
       "    </tr>\n",
       "    <tr>\n",
       "      <th>20</th>\n",
       "      <td>verification_status_Source Verified</td>\n",
       "      <td>1.631626</td>\n",
       "    </tr>\n",
       "    <tr>\n",
       "      <th>4</th>\n",
       "      <td>revol_bal</td>\n",
       "      <td>1.454562</td>\n",
       "    </tr>\n",
       "    <tr>\n",
       "      <th>3</th>\n",
       "      <td>dti</td>\n",
       "      <td>1.352467</td>\n",
       "    </tr>\n",
       "    <tr>\n",
       "      <th>30</th>\n",
       "      <td>purpose_wedding</td>\n",
       "      <td>1.311855</td>\n",
       "    </tr>\n",
       "    <tr>\n",
       "      <th>1</th>\n",
       "      <td>annual_inc</td>\n",
       "      <td>1.230564</td>\n",
       "    </tr>\n",
       "    <tr>\n",
       "      <th>27</th>\n",
       "      <td>purpose_medical</td>\n",
       "      <td>1.223737</td>\n",
       "    </tr>\n",
       "    <tr>\n",
       "      <th>29</th>\n",
       "      <td>purpose_moving</td>\n",
       "      <td>1.189946</td>\n",
       "    </tr>\n",
       "    <tr>\n",
       "      <th>17</th>\n",
       "      <td>home_ownership_OWN</td>\n",
       "      <td>1.188952</td>\n",
       "    </tr>\n",
       "    <tr>\n",
       "      <th>21</th>\n",
       "      <td>delinq_2yrs_1</td>\n",
       "      <td>1.184470</td>\n",
       "    </tr>\n",
       "    <tr>\n",
       "      <th>28</th>\n",
       "      <td>purpose_vacation</td>\n",
       "      <td>1.124500</td>\n",
       "    </tr>\n",
       "    <tr>\n",
       "      <th>12</th>\n",
       "      <td>inq_last_6mths</td>\n",
       "      <td>1.070333</td>\n",
       "    </tr>\n",
       "    <tr>\n",
       "      <th>31</th>\n",
       "      <td>delinq_2yrs_2</td>\n",
       "      <td>1.061802</td>\n",
       "    </tr>\n",
       "    <tr>\n",
       "      <th>33</th>\n",
       "      <td>purpose_renewable_energy</td>\n",
       "      <td>1.033407</td>\n",
       "    </tr>\n",
       "    <tr>\n",
       "      <th>32</th>\n",
       "      <td>pub_rec_2</td>\n",
       "      <td>1.004157</td>\n",
       "    </tr>\n",
       "  </tbody>\n",
       "</table>\n",
       "</div>"
      ],
      "text/plain": [
       "                                columns        vif\n",
       "14                                grade  19.474723\n",
       "10                            loan_amnt  16.870994\n",
       "5                           installment  15.193367\n",
       "0                              int_rate   7.479598\n",
       "16           purpose_debt_consolidation   7.264601\n",
       "25                            pub_rec_1   5.330661\n",
       "22             pub_rec_bankruptcies_1.0   5.227208\n",
       "11                      term_ 60 months   4.422540\n",
       "8                          fico_average   4.121556\n",
       "9                            emp_length   4.046506\n",
       "18                  purpose_credit_card   2.687820\n",
       "15                  home_ownership_RENT   2.566235\n",
       "6                             total_acc   2.275401\n",
       "19                        purpose_other   2.232022\n",
       "7                              open_acc   2.173021\n",
       "24         verification_status_Verified   2.161775\n",
       "26             purpose_home_improvement   1.968417\n",
       "2                            revol_util   1.962447\n",
       "23               purpose_major_purchase   1.711290\n",
       "13               purpose_small_business   1.634011\n",
       "20  verification_status_Source Verified   1.631626\n",
       "4                             revol_bal   1.454562\n",
       "3                                   dti   1.352467\n",
       "30                      purpose_wedding   1.311855\n",
       "1                            annual_inc   1.230564\n",
       "27                      purpose_medical   1.223737\n",
       "29                       purpose_moving   1.189946\n",
       "17                   home_ownership_OWN   1.188952\n",
       "21                        delinq_2yrs_1   1.184470\n",
       "28                     purpose_vacation   1.124500\n",
       "12                       inq_last_6mths   1.070333\n",
       "31                        delinq_2yrs_2   1.061802\n",
       "33             purpose_renewable_energy   1.033407\n",
       "32                            pub_rec_2   1.004157"
      ]
     },
     "execution_count": 85,
     "metadata": {},
     "output_type": "execute_result"
    }
   ],
   "source": [
    "vif=pd.DataFrame()\n",
    "vif['columns']=X.columns\n",
    "vif['vif']=[variance_inflation_factor(X.values,i )for i in range (X.shape[1])]\n",
    "vif.sort_values('vif',ascending=False)"
   ]
  },
  {
   "cell_type": "markdown",
   "metadata": {},
   "source": [
    "**Inference- Dropping grade and loan amount to remove multicollieanrity**"
   ]
  },
  {
   "cell_type": "code",
   "execution_count": 86,
   "metadata": {},
   "outputs": [
    {
     "data": {
      "text/plain": [
       "(38708, 31)"
      ]
     },
     "execution_count": 86,
     "metadata": {},
     "output_type": "execute_result"
    }
   ],
   "source": [
    "X=X.drop(['grade','loan_amnt','installment'],1)\n",
    "X.shape"
   ]
  },
  {
   "cell_type": "code",
   "execution_count": 87,
   "metadata": {},
   "outputs": [],
   "source": [
    "#spliting into test and train\n",
    "X_train, X_test, y_train, y_test = train_test_split(X,y,test_size = .3 ,random_state=10)"
   ]
  },
  {
   "cell_type": "code",
   "execution_count": 88,
   "metadata": {},
   "outputs": [
    {
     "name": "stdout",
     "output_type": "stream",
     "text": [
      "(27095, 31)\n",
      "(11613, 31)\n",
      "(27095,)\n",
      "(11613,)\n"
     ]
    }
   ],
   "source": [
    "print(X_train.shape)\n",
    "print(X_test.shape)\n",
    "\n",
    "print(y_train.shape)\n",
    "print(y_test.shape)"
   ]
  },
  {
   "cell_type": "markdown",
   "metadata": {},
   "source": [
    "## Applying Logistic Regression"
   ]
  },
  {
   "cell_type": "code",
   "execution_count": 89,
   "metadata": {},
   "outputs": [
    {
     "data": {
      "text/plain": [
       "LogisticRegression(C=75, fit_intercept=False, random_state=10)"
      ]
     },
     "execution_count": 89,
     "metadata": {},
     "output_type": "execute_result"
    }
   ],
   "source": [
    "#building a logistic regression model\n",
    "\n",
    "logreg=LogisticRegression(C=75, dual=False,fit_intercept=False, random_state=10, solver='lbfgs')\n",
    "logreg.fit(X_train, y_train)"
   ]
  },
  {
   "cell_type": "code",
   "execution_count": 90,
   "metadata": {},
   "outputs": [
    {
     "name": "stdout",
     "output_type": "stream",
     "text": [
      "Train results \n",
      "\n",
      "0.8523712862151689\n",
      "\n",
      "\n",
      "[[22984   254]\n",
      " [ 3746   111]]\n",
      "              precision    recall  f1-score   support\n",
      "\n",
      "           0       0.86      0.99      0.92     23238\n",
      "           1       0.30      0.03      0.05      3857\n",
      "\n",
      "    accuracy                           0.85     27095\n",
      "   macro avg       0.58      0.51      0.49     27095\n",
      "weighted avg       0.78      0.85      0.80     27095\n",
      "\n"
     ]
    }
   ],
   "source": [
    "#getting train scores\n",
    "print('Train results \\n')\n",
    "y_train_predict = logreg.predict(X_train)\n",
    "model_score = logreg.score(X_train, y_train)\n",
    "print(model_score)\n",
    "print(\"\\n\")\n",
    "print(confusion_matrix(y_train, y_train_predict))\n",
    "print(classification_report(y_train, y_train_predict))"
   ]
  },
  {
   "cell_type": "code",
   "execution_count": 91,
   "metadata": {},
   "outputs": [
    {
     "name": "stdout",
     "output_type": "stream",
     "text": [
      "\n",
      "Test results \n",
      "\n",
      "0.8579178506845776\n",
      "\n",
      "\n",
      "[[9912  118]\n",
      " [1532   51]]\n",
      "              precision    recall  f1-score   support\n",
      "\n",
      "           0       0.87      0.99      0.92     10030\n",
      "           1       0.30      0.03      0.06      1583\n",
      "\n",
      "    accuracy                           0.86     11613\n",
      "   macro avg       0.58      0.51      0.49     11613\n",
      "weighted avg       0.79      0.86      0.81     11613\n",
      "\n"
     ]
    }
   ],
   "source": [
    "#getting test scores\n",
    "print('\\nTest results \\n')\n",
    "y_test_predict = logreg.predict(X_test)\n",
    "model_score = logreg.score(X_test, y_test)\n",
    "print(model_score)\n",
    "print(\"\\n\")\n",
    "print(confusion_matrix(y_test, y_test_predict))\n",
    "print(classification_report(y_test, y_test_predict))"
   ]
  },
  {
   "cell_type": "markdown",
   "metadata": {},
   "source": [
    "## Naive bayes"
   ]
  },
  {
   "cell_type": "code",
   "execution_count": 92,
   "metadata": {},
   "outputs": [
    {
     "data": {
      "text/plain": [
       "GaussianNB()"
      ]
     },
     "execution_count": 92,
     "metadata": {},
     "output_type": "execute_result"
    }
   ],
   "source": [
    "#Naive Bayes\n",
    "from sklearn.naive_bayes import GaussianNB\n",
    "\n",
    "NB_model = GaussianNB()\n",
    "NB_model.fit(X_train, y_train)"
   ]
  },
  {
   "cell_type": "code",
   "execution_count": 93,
   "metadata": {},
   "outputs": [
    {
     "name": "stdout",
     "output_type": "stream",
     "text": [
      "0.7811404318139878\n",
      "\n",
      "\n",
      "[[20047  3191]\n",
      " [ 2739  1118]]\n",
      "              precision    recall  f1-score   support\n",
      "\n",
      "           0       0.88      0.86      0.87     23238\n",
      "           1       0.26      0.29      0.27      3857\n",
      "\n",
      "    accuracy                           0.78     27095\n",
      "   macro avg       0.57      0.58      0.57     27095\n",
      "weighted avg       0.79      0.78      0.79     27095\n",
      "\n"
     ]
    }
   ],
   "source": [
    "#train\n",
    "y_train_predict = NB_model.predict(X_train)\n",
    "model_score = NB_model.score(X_train, y_train)\n",
    "print(model_score)\n",
    "print(\"\\n\")\n",
    "print(confusion_matrix(y_train, y_train_predict))\n",
    "print(classification_report(y_train, y_train_predict))"
   ]
  },
  {
   "cell_type": "code",
   "execution_count": 94,
   "metadata": {},
   "outputs": [
    {
     "name": "stdout",
     "output_type": "stream",
     "text": [
      "0.7817101524153965\n",
      "\n",
      "\n",
      "[[8634 1396]\n",
      " [1139  444]]\n",
      "              precision    recall  f1-score   support\n",
      "\n",
      "           0       0.88      0.86      0.87     10030\n",
      "           1       0.24      0.28      0.26      1583\n",
      "\n",
      "    accuracy                           0.78     11613\n",
      "   macro avg       0.56      0.57      0.57     11613\n",
      "weighted avg       0.80      0.78      0.79     11613\n",
      "\n"
     ]
    }
   ],
   "source": [
    "#test\n",
    "y_test_predict = NB_model.predict(X_test)\n",
    "model_score = NB_model.score(X_test, y_test)\n",
    "print(model_score)\n",
    "print(\"\\n\")\n",
    "print(confusion_matrix(y_test, y_test_predict))\n",
    "print(classification_report(y_test, y_test_predict))"
   ]
  },
  {
   "cell_type": "markdown",
   "metadata": {},
   "source": [
    "## SVM Model"
   ]
  },
  {
   "cell_type": "code",
   "execution_count": 95,
   "metadata": {},
   "outputs": [
    {
     "data": {
      "text/plain": [
       "SVC(random_state=1)"
      ]
     },
     "execution_count": 95,
     "metadata": {},
     "output_type": "execute_result"
    }
   ],
   "source": [
    "from sklearn import svm\n",
    "\n",
    "SVM_model= svm.SVC(random_state=1)\n",
    "SVM_model.fit(X_train, y_train)"
   ]
  },
  {
   "cell_type": "code",
   "execution_count": 96,
   "metadata": {},
   "outputs": [
    {
     "name": "stdout",
     "output_type": "stream",
     "text": [
      "0.8576490127329766\n",
      "\n",
      "\n",
      "[[23238     0]\n",
      " [ 3857     0]]\n",
      "              precision    recall  f1-score   support\n",
      "\n",
      "           0       0.86      1.00      0.92     23238\n",
      "           1       0.00      0.00      0.00      3857\n",
      "\n",
      "    accuracy                           0.86     27095\n",
      "   macro avg       0.43      0.50      0.46     27095\n",
      "weighted avg       0.74      0.86      0.79     27095\n",
      "\n"
     ]
    }
   ],
   "source": [
    "## Performance Matrix on train data set\n",
    "y_train_predict = SVM_model.predict(X_train)\n",
    "model_score = SVM_model.score(X_train, y_train)\n",
    "print(model_score)\n",
    "print(\"\\n\")\n",
    "print(confusion_matrix(y_train, y_train_predict))\n",
    "print(classification_report(y_train, y_train_predict))"
   ]
  },
  {
   "cell_type": "code",
   "execution_count": 97,
   "metadata": {},
   "outputs": [
    {
     "name": "stdout",
     "output_type": "stream",
     "text": [
      "0.863687247050719\n",
      "\n",
      "\n",
      "[[10030     0]\n",
      " [ 1583     0]]\n",
      "              precision    recall  f1-score   support\n",
      "\n",
      "           0       0.86      1.00      0.93     10030\n",
      "           1       0.00      0.00      0.00      1583\n",
      "\n",
      "    accuracy                           0.86     11613\n",
      "   macro avg       0.43      0.50      0.46     11613\n",
      "weighted avg       0.75      0.86      0.80     11613\n",
      "\n"
     ]
    }
   ],
   "source": [
    "## Performance Matrix on test data set\n",
    "y_test_predict = SVM_model.predict(X_test)\n",
    "model_score = SVM_model.score(X_test, y_test)\n",
    "print(model_score)\n",
    "print(\"\\n\")\n",
    "print(confusion_matrix(y_test, y_test_predict))\n",
    "print(classification_report(y_test, y_test_predict))"
   ]
  },
  {
   "cell_type": "markdown",
   "metadata": {},
   "source": [
    "## xgboost in the model"
   ]
  },
  {
   "cell_type": "code",
   "execution_count": 98,
   "metadata": {},
   "outputs": [
    {
     "name": "stdout",
     "output_type": "stream",
     "text": [
      "[10:43:04] WARNING: C:/Users/Administrator/workspace/xgboost-win64_release_1.3.0/src/learner.cc:1061: Starting in XGBoost 1.3.0, the default evaluation metric used with the objective 'binary:logistic' was changed from 'error' to 'logloss'. Explicitly set eval_metric if you'd like to restore the old behavior.\n"
     ]
    },
    {
     "data": {
      "text/plain": [
       "XGBClassifier(base_score=0.5, booster='gbtree', colsample_bylevel=1,\n",
       "              colsample_bynode=1, colsample_bytree=1, gamma=0, gpu_id=-1,\n",
       "              importance_type='gain', interaction_constraints='',\n",
       "              learning_rate=0.01, max_delta_step=0, max_depth=6,\n",
       "              min_child_weight=1, missing=nan, monotone_constraints='()',\n",
       "              n_estimators=100, n_jobs=12, num_parallel_tree=1, random_state=1,\n",
       "              reg_alpha=0, reg_lambda=1, scale_pos_weight=1, subsample=1,\n",
       "              tree_method='exact', validate_parameters=1, verbosity=None)"
      ]
     },
     "execution_count": 98,
     "metadata": {},
     "output_type": "execute_result"
    }
   ],
   "source": [
    "import xgboost as xgb\n",
    "XGB_SM_model=xgb.XGBClassifier(random_state=1,learning_rate=0.01)\n",
    "XGB_SM_model.fit(X_train, y_train)"
   ]
  },
  {
   "cell_type": "code",
   "execution_count": 99,
   "metadata": {},
   "outputs": [
    {
     "name": "stdout",
     "output_type": "stream",
     "text": [
      "0.8593836501199483\n",
      "\n",
      "\n",
      "[[23234     4]\n",
      " [ 3806    51]]\n",
      "              precision    recall  f1-score   support\n",
      "\n",
      "           0       0.86      1.00      0.92     23238\n",
      "           1       0.93      0.01      0.03      3857\n",
      "\n",
      "    accuracy                           0.86     27095\n",
      "   macro avg       0.89      0.51      0.48     27095\n",
      "weighted avg       0.87      0.86      0.80     27095\n",
      "\n"
     ]
    }
   ],
   "source": [
    "y_train_predict = XGB_SM_model.predict(X_train)\n",
    "model_score = XGB_SM_model.score(X_train, y_train)\n",
    "print(model_score)\n",
    "print(\"\\n\")\n",
    "print(confusion_matrix(y_train, y_train_predict))\n",
    "print(classification_report(y_train, y_train_predict))"
   ]
  },
  {
   "cell_type": "code",
   "execution_count": 100,
   "metadata": {},
   "outputs": [
    {
     "name": "stdout",
     "output_type": "stream",
     "text": [
      "0.8630844742960475\n",
      "\n",
      "\n",
      "[[10014    16]\n",
      " [ 1574     9]]\n",
      "              precision    recall  f1-score   support\n",
      "\n",
      "           0       0.86      1.00      0.93     10030\n",
      "           1       0.36      0.01      0.01      1583\n",
      "\n",
      "    accuracy                           0.86     11613\n",
      "   macro avg       0.61      0.50      0.47     11613\n",
      "weighted avg       0.80      0.86      0.80     11613\n",
      "\n"
     ]
    }
   ],
   "source": [
    "y_train_predict = XGB_SM_model.predict(X_test)\n",
    "model_score = XGB_SM_model.score(X_test, y_test)\n",
    "print(model_score)\n",
    "print(\"\\n\")\n",
    "print(confusion_matrix(y_test, y_train_predict))\n",
    "print(classification_report(y_test, y_train_predict))"
   ]
  },
  {
   "cell_type": "markdown",
   "metadata": {},
   "source": [
    "## Applying KNN Classifier"
   ]
  },
  {
   "cell_type": "code",
   "execution_count": 101,
   "metadata": {},
   "outputs": [
    {
     "data": {
      "text/plain": [
       "KNeighborsClassifier()"
      ]
     },
     "execution_count": 101,
     "metadata": {},
     "output_type": "execute_result"
    }
   ],
   "source": [
    "from sklearn.neighbors import KNeighborsClassifier\n",
    "\n",
    "KNN_SM_model=KNeighborsClassifier()\n",
    "KNN_SM_model.fit(X_train,y_train)"
   ]
  },
  {
   "cell_type": "code",
   "execution_count": 102,
   "metadata": {},
   "outputs": [
    {
     "name": "stdout",
     "output_type": "stream",
     "text": [
      "0.8693854954788707\n",
      "\n",
      "\n",
      "[[22896   342]\n",
      " [ 3197   660]]\n",
      "              precision    recall  f1-score   support\n",
      "\n",
      "           0       0.88      0.99      0.93     23238\n",
      "           1       0.66      0.17      0.27      3857\n",
      "\n",
      "    accuracy                           0.87     27095\n",
      "   macro avg       0.77      0.58      0.60     27095\n",
      "weighted avg       0.85      0.87      0.83     27095\n",
      "\n"
     ]
    }
   ],
   "source": [
    "#train\n",
    "y_train_predict = KNN_SM_model.predict(X_train)\n",
    "model_score = KNN_SM_model.score(X_train, y_train)\n",
    "print(model_score)\n",
    "print(\"\\n\")\n",
    "print(confusion_matrix(y_train, y_train_predict))\n",
    "print(classification_report(y_train, y_train_predict))"
   ]
  },
  {
   "cell_type": "code",
   "execution_count": 103,
   "metadata": {},
   "outputs": [
    {
     "name": "stdout",
     "output_type": "stream",
     "text": [
      "0.8468957203134418\n",
      "\n",
      "\n",
      "[[9745  285]\n",
      " [1493   90]]\n",
      "              precision    recall  f1-score   support\n",
      "\n",
      "           0       0.87      0.97      0.92     10030\n",
      "           1       0.24      0.06      0.09      1583\n",
      "\n",
      "    accuracy                           0.85     11613\n",
      "   macro avg       0.55      0.51      0.50     11613\n",
      "weighted avg       0.78      0.85      0.80     11613\n",
      "\n"
     ]
    }
   ],
   "source": [
    "#test\n",
    "y_test_predict = KNN_SM_model.predict(X_test)\n",
    "model_score = KNN_SM_model.score(X_test, y_test)\n",
    "print(model_score)\n",
    "print(\"\\n\")\n",
    "print(confusion_matrix(y_test, y_test_predict))\n",
    "print(classification_report(y_test, y_test_predict))"
   ]
  },
  {
   "cell_type": "markdown",
   "metadata": {},
   "source": [
    "## AdaBooster Classifier"
   ]
  },
  {
   "cell_type": "code",
   "execution_count": 104,
   "metadata": {},
   "outputs": [
    {
     "data": {
      "text/plain": [
       "AdaBoostClassifier(n_estimators=100, random_state=1)"
      ]
     },
     "execution_count": 104,
     "metadata": {},
     "output_type": "execute_result"
    }
   ],
   "source": [
    "from sklearn.ensemble import AdaBoostClassifier\n",
    "\n",
    "\n",
    "ADB_model = AdaBoostClassifier(n_estimators=100,random_state=1)\n",
    "ADB_model.fit(X_train,y_train)"
   ]
  },
  {
   "cell_type": "code",
   "execution_count": 105,
   "metadata": {},
   "outputs": [
    {
     "name": "stdout",
     "output_type": "stream",
     "text": [
      "0.8580549916958848\n",
      "\n",
      "\n",
      "[[23146    92]\n",
      " [ 3754   103]]\n",
      "              precision    recall  f1-score   support\n",
      "\n",
      "           0       0.86      1.00      0.92     23238\n",
      "           1       0.53      0.03      0.05      3857\n",
      "\n",
      "    accuracy                           0.86     27095\n",
      "   macro avg       0.69      0.51      0.49     27095\n",
      "weighted avg       0.81      0.86      0.80     27095\n",
      "\n"
     ]
    }
   ],
   "source": [
    "#train\n",
    "y_train_predict = ADB_model.predict(X_train)\n",
    "model_score = ADB_model.score(X_train, y_train)\n",
    "print(model_score)\n",
    "print(\"\\n\")\n",
    "print(confusion_matrix(y_train, y_train_predict))\n",
    "print(classification_report(y_train, y_train_predict))"
   ]
  },
  {
   "cell_type": "code",
   "execution_count": 106,
   "metadata": {},
   "outputs": [
    {
     "name": "stdout",
     "output_type": "stream",
     "text": [
      "0.861965039180229\n",
      "\n",
      "\n",
      "[[9983   47]\n",
      " [1556   27]]\n",
      "              precision    recall  f1-score   support\n",
      "\n",
      "           0       0.87      1.00      0.93     10030\n",
      "           1       0.36      0.02      0.03      1583\n",
      "\n",
      "    accuracy                           0.86     11613\n",
      "   macro avg       0.62      0.51      0.48     11613\n",
      "weighted avg       0.80      0.86      0.80     11613\n",
      "\n"
     ]
    }
   ],
   "source": [
    "#test\n",
    "y_test_predict = ADB_model.predict(X_test)\n",
    "model_score = ADB_model.score(X_test, y_test)\n",
    "print(model_score)\n",
    "print(\"\\n\")\n",
    "print(confusion_matrix(y_test, y_test_predict))\n",
    "print(classification_report(y_test, y_test_predict))"
   ]
  },
  {
   "cell_type": "markdown",
   "metadata": {},
   "source": [
    "## Random forest"
   ]
  },
  {
   "cell_type": "code",
   "execution_count": 107,
   "metadata": {},
   "outputs": [
    {
     "data": {
      "text/plain": [
       "RandomForestClassifier(max_depth=14, random_state=12)"
      ]
     },
     "execution_count": 107,
     "metadata": {},
     "output_type": "execute_result"
    }
   ],
   "source": [
    "from sklearn.ensemble import RandomForestClassifier\n",
    "\n",
    "\n",
    "rf_model= RandomForestClassifier(random_state=12,max_depth=14)\n",
    "rf_model.fit(X_train, y_train)"
   ]
  },
  {
   "cell_type": "code",
   "execution_count": 108,
   "metadata": {},
   "outputs": [
    {
     "name": "stdout",
     "output_type": "stream",
     "text": [
      "0.8870640339546042\n",
      "\n",
      "\n",
      "[[23238     0]\n",
      " [ 3060   797]]\n",
      "              precision    recall  f1-score   support\n",
      "\n",
      "           0       0.88      1.00      0.94     23238\n",
      "           1       1.00      0.21      0.34      3857\n",
      "\n",
      "    accuracy                           0.89     27095\n",
      "   macro avg       0.94      0.60      0.64     27095\n",
      "weighted avg       0.90      0.89      0.85     27095\n",
      "\n"
     ]
    }
   ],
   "source": [
    "# Performance on train data set\n",
    "y_train_predict = rf_model.predict(X_train)\n",
    "model_score = rf_model.score(X_train, y_train)\n",
    "print(model_score)\n",
    "print(\"\\n\")\n",
    "print(confusion_matrix(y_train, y_train_predict))\n",
    "print(classification_report(y_train, y_train_predict))"
   ]
  },
  {
   "cell_type": "code",
   "execution_count": 109,
   "metadata": {},
   "outputs": [
    {
     "name": "stdout",
     "output_type": "stream",
     "text": [
      "0.8636011366571945\n",
      "\n",
      "\n",
      "[[10026     4]\n",
      " [ 1580     3]]\n",
      "              precision    recall  f1-score   support\n",
      "\n",
      "           0       0.86      1.00      0.93     10030\n",
      "           1       0.43      0.00      0.00      1583\n",
      "\n",
      "    accuracy                           0.86     11613\n",
      "   macro avg       0.65      0.50      0.47     11613\n",
      "weighted avg       0.80      0.86      0.80     11613\n",
      "\n"
     ]
    }
   ],
   "source": [
    "#performance on test data\n",
    "y_test_predict = rf_model.predict(X_test)\n",
    "model_score = rf_model.score(X_test, y_test)\n",
    "print(model_score)\n",
    "print(\"\\n\")\n",
    "print(confusion_matrix(y_test, y_test_predict))\n",
    "print(classification_report(y_test, y_test_predict))"
   ]
  },
  {
   "cell_type": "markdown",
   "metadata": {},
   "source": [
    "# Summary of above models train and test results."
   ]
  },
  {
   "cell_type": "raw",
   "metadata": {},
   "source": [
    "Performance of LogisticRegression model on train data gave the following result\n",
    "Confusion Matrix:\n",
    "[[17735  5503]\n",
    " [ 7441 15797]]\n",
    "\n",
    "                precision    recall  f1-score   support\n",
    "\n",
    "           0       0.70      0.76      0.73     23238\n",
    "           1       0.74      0.68      0.71     23238\n",
    "\n",
    "    accuracy                           0.72     46476\n",
    "   macro avg       0.72      0.72      0.72     46476\n",
    "weighted avg       0.72      0.72      0.72     46476\n",
    "\n",
    "\n",
    "Performance of Naive bayes model on train data gave the following result\n",
    "Confusion Matrix:\n",
    "[[ 7188 16050]\n",
    " [  912  2945]]\n",
    "\n",
    "              precision    recall  f1-score   support\n",
    "\n",
    "           0       0.89      0.31      0.46     23238\n",
    "           1       0.16      0.76      0.26      3857\n",
    "\n",
    "    accuracy                           0.37     27095\n",
    "   macro avg       0.52      0.54      0.36     27095\n",
    "weighted avg       0.78      0.37      0.43     27095\n",
    "\n",
    "\n",
    "Performance of svm model on train data gave the following result\n",
    "Confusion Matrix:\n",
    "[[18622  4616]\n",
    " [ 5708 17530]]\n",
    "\n",
    "              precision    recall  f1-score   support\n",
    "\n",
    "           0       0.77      0.80      0.78     23238\n",
    "           1       0.79      0.75      0.77     23238\n",
    "\n",
    "    accuracy                           0.78     46476\n",
    "   macro avg       0.78      0.78      0.78     46476\n",
    "weighted avg       0.78      0.78      0.78     46476\n",
    "\n",
    "\n",
    "Performance of LinearDiscriminantAnalysis model on train data gave the following result\n",
    "Confusion Matrix:\n",
    "[[18288  4950]\n",
    " [ 6643 16595]]\n",
    "\n",
    "              precision    recall  f1-score   support\n",
    "\n",
    "           0       0.73      0.79      0.76     23238\n",
    "           1       0.77      0.71      0.74     23238\n",
    "\n",
    "    accuracy                           0.75     46476\n",
    "   macro avg       0.75      0.75      0.75     46476\n",
    "weighted avg       0.75      0.75      0.75     46476\n",
    "\n",
    "\n",
    "Performance of xgboost model on train data gave the following result\n",
    "Confusion Matrix:\n",
    "[[19024  4214]\n",
    " [ 6049 17189]]\n",
    "\n",
    "              precision    recall  f1-score   support\n",
    "\n",
    "           0       0.76      0.82      0.79     23238\n",
    "           1       0.80      0.74      0.77     23238\n",
    "\n",
    "    accuracy                           0.78     46476\n",
    "   macro avg       0.78      0.78      0.78     46476\n",
    "weighted avg       0.78      0.78      0.78     46476\n",
    "\n",
    "\n",
    "Performance of KNeighborsClassifier model on train data gave the following result\n",
    "Confusion Matrix:\n",
    "[[16142  7096]\n",
    " [   47 23191]]\n",
    "\n",
    "              precision    recall  f1-score   support\n",
    "\n",
    "           0       1.00      0.69      0.82     23238\n",
    "           1       0.77      1.00      0.87     23238\n",
    "\n",
    "    accuracy                           0.85     46476\n",
    "   macro avg       0.88      0.85      0.84     46476\n",
    "weighted avg       0.88      0.85      0.84     46476\n",
    "\n",
    "\n",
    "Performance of AdaBoostClassifier model on train data gave the following result\n",
    "Confusion Matrix:\n",
    "[[19629  3609]\n",
    " [ 4873 18365]]\n",
    "\n",
    "              precision    recall  f1-score   support\n",
    "\n",
    "           0       0.80      0.84      0.82     23238\n",
    "           1       0.84      0.79      0.81     23238\n",
    "\n",
    "    accuracy                           0.82     46476\n",
    "   macro avg       0.82      0.82      0.82     46476\n",
    "weighted avg       0.82      0.82      0.82     46476\n",
    "\n",
    "\n",
    "Performance of RandomForestClassifier model on train data gave the following result\n",
    "Confusion Matrix:\n",
    "[[20880  2358]\n",
    " [  993 22245]]\n",
    "\n",
    "              precision    recall  f1-score   support\n",
    "\n",
    "           0       0.95      0.90      0.93     23238\n",
    "           1       0.90      0.96      0.93     23238\n",
    "\n",
    "    accuracy                           0.93     46476\n",
    "   macro avg       0.93      0.93      0.93     46476\n",
    "weighted avg       0.93      0.93      0.93     46476"
   ]
  },
  {
   "cell_type": "raw",
   "metadata": {},
   "source": [
    "Performance of LogisticRegression model on test data gave the following result:\n",
    "Confusion matrix:\n",
    "    [[7625 2405]\n",
    "     [ 924  659]]\n",
    "    \n",
    "              precision    recall  f1-score   support\n",
    "\n",
    "           0       0.89      0.76      0.82     10030\n",
    "           1       0.22      0.42      0.28      1583\n",
    "\n",
    "    accuracy                           0.71     11613\n",
    "   macro avg       0.55      0.59      0.55     11613\n",
    "weighted avg       0.80      0.71      0.75     11613\n",
    "\n",
    "\n",
    "Performance of Naive bayes model on test data gave the following result:\n",
    "Confusion matrix:\n",
    "   [[2989 7041]\n",
    "  [ 399 1184]]\n",
    "\n",
    "              precision    recall  f1-score   support\n",
    "\n",
    "           0       0.88      0.30      0.45     10030\n",
    "           1       0.14      0.75      0.24      1583\n",
    "\n",
    "    accuracy                           0.36     11613\n",
    "   macro avg       0.51      0.52      0.34     11613\n",
    "weighted avg       0.78      0.36      0.42     11613\n",
    "\n",
    "\n",
    "Performance of svm model on test data gave the following result:\n",
    "Confusion matrix:\n",
    "   [[7918 2112]\n",
    " [1028  555]]\n",
    "\n",
    "              precision    recall  f1-score   support\n",
    "\n",
    "           0       0.89      0.79      0.83     10030\n",
    "           1       0.21      0.35      0.26      1583\n",
    "\n",
    "    accuracy                           0.73     11613\n",
    "   macro avg       0.55      0.57      0.55     11613\n",
    "weighted avg       0.79      0.73      0.76     11613\n",
    "\n",
    "\n",
    "Performance of LinearDiscriminantAnalysis model on test data gave the following result:\n",
    "Confusion matrix:\n",
    "   [[7845 2185]\n",
    " [1062  521]]\n",
    "\n",
    "              precision    recall  f1-score   support\n",
    "\n",
    "           0       0.88      0.78      0.83     10030\n",
    "           1       0.19      0.33      0.24      1583\n",
    "\n",
    "    accuracy                           0.72     11613\n",
    "   macro avg       0.54      0.56      0.54     11613\n",
    "weighted avg       0.79      0.72      0.75     11613\n",
    "\n",
    "\n",
    "Performance of xgboost model on test data gave the following result:\n",
    "Confusion matrix:\n",
    "   [[8157 1873]\n",
    " [1048  535]]\n",
    "\n",
    "              precision    recall  f1-score   support\n",
    "\n",
    "           0       0.89      0.81      0.85     10030\n",
    "           1       0.22      0.34      0.27      1583\n",
    "\n",
    "    accuracy                           0.75     11613\n",
    "   macro avg       0.55      0.58      0.56     11613\n",
    "weighted avg       0.80      0.75      0.77     11613\n",
    "\n",
    "\n",
    "Performance of KNeighborsClassifier model on test data gave the following result:\n",
    "Confusion matrix:\n",
    "  [[5900 4130]\n",
    " [ 730  853]]\n",
    "\n",
    "              precision    recall  f1-score   support\n",
    "\n",
    "           0       0.89      0.59      0.71     10030\n",
    "           1       0.17      0.54      0.26      1583\n",
    "\n",
    "    accuracy                           0.58     11613\n",
    "   macro avg       0.53      0.56      0.48     11613\n",
    "weighted avg       0.79      0.58      0.65     11613\n",
    "\n",
    "\n",
    "Performance of AdaBoostClassifier model on test data gave the following result:\n",
    "Confusion matrix:\n",
    "   [[8412 1618]\n",
    " [1131  452]]\n",
    "\n",
    "              precision    recall  f1-score   support\n",
    "\n",
    "           0       0.88      0.84      0.86     10030\n",
    "           1       0.22      0.29      0.25      1583\n",
    "\n",
    "    accuracy                           0.76     11613\n",
    "   macro avg       0.55      0.56      0.55     11613\n",
    "weighted avg       0.79      0.76      0.78     11613\n",
    "\n",
    "\n",
    "Performance of RandomForestClassifier model on test data gave the following result:\n",
    "Confusion matrix:\n",
    "   [[8431 1599]\n",
    " [1089  494]]\n",
    "\n",
    "              precision    recall  f1-score   support\n",
    "\n",
    "           0       0.89      0.84      0.86     10030\n",
    "           1       0.24      0.31      0.27      1583\n",
    "\n",
    "    accuracy                           0.77     11613\n",
    "   macro avg       0.56      0.58      0.57     11613\n",
    "weighted avg       0.80      0.77      0.78     11613"
   ]
  },
  {
   "cell_type": "markdown",
   "metadata": {},
   "source": [
    "### Inference:From the above results we are taking RandomForest and AdaBoost into furthur tuning."
   ]
  },
  {
   "cell_type": "markdown",
   "metadata": {},
   "source": [
    "### Applying smote because of imbalance in the target"
   ]
  },
  {
   "cell_type": "code",
   "execution_count": 110,
   "metadata": {},
   "outputs": [],
   "source": [
    "smote = im.SMOTE(sampling_strategy='minority',random_state=1)\n",
    "X_train_res, y_train_res = smote.fit_resample(X_train, y_train)"
   ]
  },
  {
   "cell_type": "code",
   "execution_count": 111,
   "metadata": {},
   "outputs": [
    {
     "data": {
      "text/plain": [
       "1    23238\n",
       "0    23238\n",
       "Name: loan_status, dtype: int64"
      ]
     },
     "execution_count": 111,
     "metadata": {},
     "output_type": "execute_result"
    }
   ],
   "source": [
    "y_train_res.value_counts()"
   ]
  },
  {
   "cell_type": "markdown",
   "metadata": {},
   "source": [
    "### Using Grid Search to get best paramets"
   ]
  },
  {
   "cell_type": "code",
   "execution_count": 112,
   "metadata": {},
   "outputs": [],
   "source": [
    "from sklearn.model_selection import GridSearchCV"
   ]
  },
  {
   "cell_type": "markdown",
   "metadata": {},
   "source": [
    "### Adaboost Model tuning with smote"
   ]
  },
  {
   "cell_type": "markdown",
   "metadata": {},
   "source": [
    "### Note - dont run the gridsearch in below cell it takes at least 40 mins to run"
   ]
  },
  {
   "cell_type": "code",
   "execution_count": 113,
   "metadata": {},
   "outputs": [],
   "source": [
    "# param=[{'learning_rate':[0.3,0.7,1.0,1.4,1.65],'n_estimators':[100,150,200,250,300]}]\n",
    "# ADB_model = AdaBoostClassifier(random_state=1)\n",
    "# adb_grid = GridSearchCV(estimator= ADB_model,\n",
    "#                         param_grid = param,cv=5)\n",
    "# adb_grid.fit(X_train_res,y_train_res)\n",
    "# print('Best parameters for Decision Tree Classifier:',tree_grid.best_params_) "
   ]
  },
  {
   "cell_type": "markdown",
   "metadata": {},
   "source": [
    "### best parameters - {'learning_rate': 1.65, 'n_estimators': 300}"
   ]
  },
  {
   "cell_type": "markdown",
   "metadata": {},
   "source": [
    "### Building the new tuned adaboost model"
   ]
  },
  {
   "cell_type": "code",
   "execution_count": 114,
   "metadata": {},
   "outputs": [
    {
     "data": {
      "text/plain": [
       "AdaBoostClassifier(learning_rate=1.65, n_estimators=300, random_state=1)"
      ]
     },
     "execution_count": 114,
     "metadata": {},
     "output_type": "execute_result"
    }
   ],
   "source": [
    "tuned_ADB_model = AdaBoostClassifier(n_estimators=300,learning_rate=1.65,random_state=1)\n",
    "tuned_ADB_model.fit(X_train_res,y_train_res)"
   ]
  },
  {
   "cell_type": "code",
   "execution_count": 115,
   "metadata": {},
   "outputs": [
    {
     "name": "stdout",
     "output_type": "stream",
     "text": [
      "0.8885231087012652\n",
      "------------------------------------------------------------\n",
      "[[22094  1144]\n",
      " [ 4037 19201]]\n",
      "              precision    recall  f1-score   support\n",
      "\n",
      "           0       0.85      0.95      0.90     23238\n",
      "           1       0.94      0.83      0.88     23238\n",
      "\n",
      "    accuracy                           0.89     46476\n",
      "   macro avg       0.89      0.89      0.89     46476\n",
      "weighted avg       0.89      0.89      0.89     46476\n",
      "\n"
     ]
    }
   ],
   "source": [
    "#train\n",
    "y_train_predict = tuned_ADB_model.predict(X_train_res)\n",
    "model_score = tuned_ADB_model.score(X_train_res, y_train_res)\n",
    "print(model_score)\n",
    "print('---'*20)\n",
    "print(confusion_matrix(y_train_res, y_train_predict))\n",
    "print(classification_report(y_train_res, y_train_predict))"
   ]
  },
  {
   "cell_type": "code",
   "execution_count": 116,
   "metadata": {},
   "outputs": [
    {
     "name": "stdout",
     "output_type": "stream",
     "text": [
      "0.835012486007061\n",
      "------------------------------------------------------------\n",
      "[[9506  524]\n",
      " [1392  191]]\n",
      "              precision    recall  f1-score   support\n",
      "\n",
      "           0       0.87      0.95      0.91     10030\n",
      "           1       0.27      0.12      0.17      1583\n",
      "\n",
      "    accuracy                           0.84     11613\n",
      "   macro avg       0.57      0.53      0.54     11613\n",
      "weighted avg       0.79      0.84      0.81     11613\n",
      "\n"
     ]
    }
   ],
   "source": [
    "#test\n",
    "y_test_predict = tuned_ADB_model.predict(X_test)\n",
    "model_score = tuned_ADB_model.score(X_test, y_test)\n",
    "print(model_score)\n",
    "print('---'*20)\n",
    "print(confusion_matrix(y_test, y_test_predict))\n",
    "print(classification_report(y_test, y_test_predict))"
   ]
  },
  {
   "cell_type": "markdown",
   "metadata": {},
   "source": [
    "### Adaboost Probabibilty tuning"
   ]
  },
  {
   "cell_type": "code",
   "execution_count": 117,
   "metadata": {},
   "outputs": [],
   "source": [
    "#train data\n",
    "y_prob_train= tuned_ADB_model.predict_proba(X_train_res)[:,1]\n",
    "y_pred_train_new=[]\n",
    "for i in y_prob_train:\n",
    "    if i<0.4994:\n",
    "        y_pred_train_new.append(0)\n",
    "    else:\n",
    "        y_pred_train_new.append(1)"
   ]
  },
  {
   "cell_type": "code",
   "execution_count": 118,
   "metadata": {},
   "outputs": [],
   "source": [
    "#test Data\n",
    "y_prob_test= tuned_ADB_model.predict_proba(X_test)[:,1]\n",
    "y_pred_test_new=[]\n",
    "for i in y_prob_test:\n",
    "    if i<0.49947:\n",
    "        y_pred_test_new.append(0)\n",
    "    else:\n",
    "        y_pred_test_new.append(1)"
   ]
  },
  {
   "cell_type": "code",
   "execution_count": 119,
   "metadata": {
    "scrolled": true
   },
   "outputs": [
    {
     "name": "stdout",
     "output_type": "stream",
     "text": [
      "0.8121180824511576\n",
      "------------------------------------------------------------\n",
      "[[15548  7690]\n",
      " [ 1851 21387]]\n",
      "              precision    recall  f1-score   support\n",
      "\n",
      "           0       0.89      0.67      0.77     23238\n",
      "           1       0.74      0.92      0.82     23238\n",
      "\n",
      "    accuracy                           0.79     46476\n",
      "   macro avg       0.81      0.79      0.79     46476\n",
      "weighted avg       0.81      0.79      0.79     46476\n",
      "\n"
     ]
    }
   ],
   "source": [
    "#post probabilty tuning train scores\n",
    "model_score = tuned_ADB_model.score(X_train_res, y_pred_train_new)\n",
    "print(model_score)\n",
    "print('---'*20)\n",
    "print(confusion_matrix(y_train_res, y_pred_train_new))\n",
    "print(classification_report(y_train_res, y_pred_train_new))"
   ]
  },
  {
   "cell_type": "code",
   "execution_count": 120,
   "metadata": {},
   "outputs": [
    {
     "name": "stdout",
     "output_type": "stream",
     "text": [
      "0.7473521053991217\n",
      "------------------------------------------------------------\n",
      "[[7165 2865]\n",
      " [ 799  784]]\n",
      "              precision    recall  f1-score   support\n",
      "\n",
      "           0       0.90      0.71      0.80     10030\n",
      "           1       0.21      0.50      0.30      1583\n",
      "\n",
      "    accuracy                           0.68     11613\n",
      "   macro avg       0.56      0.60      0.55     11613\n",
      "weighted avg       0.81      0.68      0.73     11613\n",
      "\n"
     ]
    }
   ],
   "source": [
    "#post probabilty tuning test scores\n",
    "model_score = tuned_ADB_model.score(X_test, y_pred_test_new)\n",
    "print(model_score)\n",
    "print('---'*20)\n",
    "print(confusion_matrix(y_test, y_pred_test_new))\n",
    "print(classification_report(y_test, y_pred_test_new))"
   ]
  },
  {
   "cell_type": "markdown",
   "metadata": {},
   "source": [
    "# Random Forest model tuning wwith smote"
   ]
  },
  {
   "cell_type": "markdown",
   "metadata": {},
   "source": [
    "### Note - dont run the gridsearch in below cell it takes at least 40 mins to run"
   ]
  },
  {
   "cell_type": "code",
   "execution_count": 121,
   "metadata": {},
   "outputs": [],
   "source": [
    "# param=[{'bootstrap': [True,False],\n",
    "#  'max_leaf_nodes': [5,15,25,40],\n",
    "#  'n_estimators': [100,150,200]}]\n",
    "# rf_model= RandomForestClassifier()\n",
    "# rf_grid = GridSearchCV(estimator= rf_model,\n",
    "#                          param_grid = param,cv=5)\n",
    "# rf_grid.fit(X_train_res,y_train_res)\n",
    "# print('Best parameters for Random Forest:',rf_grid.best_params_)"
   ]
  },
  {
   "cell_type": "markdown",
   "metadata": {},
   "source": [
    "### best prameters { 'bootstrap': True, 'max_leaf_nodes':40, 'n_estimators':100 }"
   ]
  },
  {
   "cell_type": "code",
   "execution_count": 122,
   "metadata": {},
   "outputs": [
    {
     "data": {
      "text/plain": [
       "RandomForestClassifier(max_leaf_nodes=40, random_state=12)"
      ]
     },
     "execution_count": 122,
     "metadata": {},
     "output_type": "execute_result"
    }
   ],
   "source": [
    "from sklearn.ensemble import RandomForestClassifier\n",
    "\n",
    "\n",
    "tuned_rf_model= RandomForestClassifier(bootstrap=True,max_leaf_nodes=40,n_estimators=100,random_state=12)\n",
    "tuned_rf_model.fit(X_train_res, y_train_res)"
   ]
  },
  {
   "cell_type": "code",
   "execution_count": 123,
   "metadata": {},
   "outputs": [
    {
     "name": "stdout",
     "output_type": "stream",
     "text": [
      "0.746858593682761\n",
      "------------------------------------------------------------\n",
      "[[17236  6002]\n",
      " [ 5763 17475]]\n",
      "              precision    recall  f1-score   support\n",
      "\n",
      "           0       0.75      0.74      0.75     23238\n",
      "           1       0.74      0.75      0.75     23238\n",
      "\n",
      "    accuracy                           0.75     46476\n",
      "   macro avg       0.75      0.75      0.75     46476\n",
      "weighted avg       0.75      0.75      0.75     46476\n",
      "\n"
     ]
    }
   ],
   "source": [
    "# Performance on train data set\n",
    "y_train_predict = tuned_rf_model.predict(X_train_res)\n",
    "model_score = tuned_rf_model.score(X_train_res, y_train_res)\n",
    "print(model_score)\n",
    "print('---'*20)\n",
    "print(confusion_matrix(y_train_res, y_train_predict))\n",
    "print(classification_report(y_train_res, y_train_predict))"
   ]
  },
  {
   "cell_type": "code",
   "execution_count": 124,
   "metadata": {},
   "outputs": [
    {
     "name": "stdout",
     "output_type": "stream",
     "text": [
      "0.7044691294239215\n",
      "------------------------------------------------------------\n",
      "[[7415 2615]\n",
      " [ 817  766]]\n",
      "              precision    recall  f1-score   support\n",
      "\n",
      "           0       0.90      0.74      0.81     10030\n",
      "           1       0.23      0.48      0.31      1583\n",
      "\n",
      "    accuracy                           0.70     11613\n",
      "   macro avg       0.56      0.61      0.56     11613\n",
      "weighted avg       0.81      0.70      0.74     11613\n",
      "\n"
     ]
    }
   ],
   "source": [
    "# Performance on test data set\n",
    "y_test_predict = tuned_rf_model.predict(X_test)\n",
    "model_score = tuned_rf_model.score(X_test, y_test)\n",
    "print(model_score)\n",
    "print('---'*20)\n",
    "print(confusion_matrix(y_test, y_test_predict))\n",
    "print(classification_report(y_test, y_test_predict))"
   ]
  },
  {
   "cell_type": "code",
   "execution_count": 125,
   "metadata": {},
   "outputs": [],
   "source": [
    "#train probabilty tuning\n",
    "y_prob_train= tuned_rf_model.predict_proba(X_train_res)[:,1]\n",
    "y_pred_train_new=[]\n",
    "for i in y_prob_train:\n",
    "    if i<0.45:\n",
    "        y_pred_train_new.append(0)\n",
    "    else:\n",
    "        y_pred_train_new.append(1)"
   ]
  },
  {
   "cell_type": "code",
   "execution_count": 126,
   "metadata": {},
   "outputs": [],
   "source": [
    "#test probabilty tuning\n",
    "y_prob_test= tuned_rf_model.predict_proba(X_test)[:,1]\n",
    "y_pred_test_new=[]\n",
    "for i in y_prob_test:\n",
    "    if i<0.45:\n",
    "        y_pred_test_new.append(0)\n",
    "    else:\n",
    "        y_pred_test_new.append(1)"
   ]
  },
  {
   "cell_type": "code",
   "execution_count": 127,
   "metadata": {},
   "outputs": [
    {
     "name": "stdout",
     "output_type": "stream",
     "text": [
      "0.8819175488424132\n",
      "------------------------------------------------------------\n",
      "[[14077  9161]\n",
      " [ 3434 19804]]\n",
      "              precision    recall  f1-score   support\n",
      "\n",
      "           0       0.80      0.61      0.69     23238\n",
      "           1       0.68      0.85      0.76     23238\n",
      "\n",
      "    accuracy                           0.73     46476\n",
      "   macro avg       0.74      0.73      0.72     46476\n",
      "weighted avg       0.74      0.73      0.72     46476\n",
      "\n"
     ]
    }
   ],
   "source": [
    "#post probabilty tuning train scores\n",
    "model_score = tuned_rf_model.score(X_train_res, y_pred_train_new)\n",
    "print(model_score)\n",
    "print('---'*20)\n",
    "print(confusion_matrix(y_train_res, y_pred_train_new))\n",
    "print(classification_report(y_train_res, y_pred_train_new))"
   ]
  },
  {
   "cell_type": "code",
   "execution_count": 128,
   "metadata": {},
   "outputs": [
    {
     "name": "stdout",
     "output_type": "stream",
     "text": [
      "0.8575734091104796\n",
      "------------------------------------------------------------------------------------------------------------------------\n",
      "[[6016 4014]\n",
      " [ 562 1021]]\n",
      "              precision    recall  f1-score   support\n",
      "\n",
      "           0       0.91      0.60      0.72     10030\n",
      "           1       0.20      0.64      0.31      1583\n",
      "\n",
      "    accuracy                           0.61     11613\n",
      "   macro avg       0.56      0.62      0.52     11613\n",
      "weighted avg       0.82      0.61      0.67     11613\n",
      "\n"
     ]
    }
   ],
   "source": [
    "#post porbability tuning test scores\n",
    "model_score = tuned_rf_model.score(X_test, y_pred_test_new)\n",
    "print(model_score)\n",
    "print('---'*40)\n",
    "print(confusion_matrix(y_test, y_pred_test_new))\n",
    "print(classification_report(y_test, y_pred_test_new))"
   ]
  },
  {
   "cell_type": "markdown",
   "metadata": {},
   "source": [
    "**inference - rf forest with SMOTE gives the best result with test and train recall and accuracy**"
   ]
  },
  {
   "cell_type": "markdown",
   "metadata": {},
   "source": [
    "## Cross Validation"
   ]
  },
  {
   "cell_type": "code",
   "execution_count": 129,
   "metadata": {},
   "outputs": [
    {
     "data": {
      "text/plain": [
       "array([0.91006885, 0.91415663, 0.90942341, 0.90877797, 0.88403614,\n",
       "       0.86359725, 0.88035292, 0.8779858 , 0.88056811, 0.91822681])"
      ]
     },
     "execution_count": 129,
     "metadata": {},
     "output_type": "execute_result"
    }
   ],
   "source": [
    "#train data\n",
    "from sklearn.model_selection import cross_val_score\n",
    "scores_train = cross_val_score(tuned_rf_model, X_train_res, y_pred_train_new, cv=10)\n",
    "scores_train"
   ]
  },
  {
   "cell_type": "code",
   "execution_count": 130,
   "metadata": {},
   "outputs": [
    {
     "name": "stdout",
     "output_type": "stream",
     "text": [
      "the average train accuracy of the model is :   0.8947193875566825\n"
     ]
    }
   ],
   "source": [
    "print(\"the average train accuracy of the model is :  \",scores_train.mean())"
   ]
  },
  {
   "cell_type": "code",
   "execution_count": 131,
   "metadata": {},
   "outputs": [
    {
     "data": {
      "text/plain": [
       "array([0.91135972, 0.90533563, 0.91049914, 0.90353144, 0.87855297,\n",
       "       0.8828596 , 0.89061154, 0.90611542, 0.90439276, 0.91559001])"
      ]
     },
     "execution_count": 131,
     "metadata": {},
     "output_type": "execute_result"
    }
   ],
   "source": [
    "#test data\n",
    "scores_test = cross_val_score(tuned_rf_model, X_test, y_pred_test_new, cv=10)\n",
    "scores_test"
   ]
  },
  {
   "cell_type": "code",
   "execution_count": 132,
   "metadata": {},
   "outputs": [
    {
     "name": "stdout",
     "output_type": "stream",
     "text": [
      "the average test accuracy of the model is :   0.9008848239024759\n"
     ]
    }
   ],
   "source": [
    "print(\"the average test accuracy of the model is :  \",scores_test.mean())"
   ]
  },
  {
   "cell_type": "markdown",
   "metadata": {},
   "source": [
    "## Model Prediction"
   ]
  },
  {
   "cell_type": "code",
   "execution_count": 133,
   "metadata": {},
   "outputs": [
    {
     "data": {
      "image/png": "[encoded data removed]",
      "text/plain": [
       "<Figure size 720x432 with 2 Axes>"
      ]
     },
     "metadata": {
      "needs_background": "light"
     },
     "output_type": "display_data"
    }
   ],
   "source": [
    "#train data info\n",
    "cm=confusion_matrix(y_train_res,y_pred_train_new)\n",
    "plt.figure(figsize=((10,6)))\n",
    "sns.heatmap(cm,annot=True,cmap='Blues',fmt='.0f')\n",
    "plt.title(\"Tuned Random-forest train data- Confusion Matrix\",fontsize=20)\n",
    "plt.xlabel(\"actual\",fontsize=15)\n",
    "plt.ylabel(\"predicted\",fontsize=15)\n",
    "plt.show()"
   ]
  },
  {
   "cell_type": "code",
   "execution_count": 134,
   "metadata": {},
   "outputs": [
    {
     "data": {
      "image/png": "[encoded data removed]",
      "text/plain": [
       "<Figure size 720x432 with 2 Axes>"
      ]
     },
     "metadata": {
      "needs_background": "light"
     },
     "output_type": "display_data"
    }
   ],
   "source": [
    "#test data info\n",
    "cm=confusion_matrix(y_test,y_pred_test_new)\n",
    "plt.figure(figsize=((10,6)))\n",
    "sns.heatmap(cm,annot=True,cmap='Blues',fmt='.0f')\n",
    "plt.title(\"Tuned Random-forest test data- Confusion Matrix\",fontsize=20)\n",
    "plt.xlabel(\"actual\",fontsize=15)\n",
    "plt.ylabel(\"predicted\",fontsize=15)\n",
    "plt.show()"
   ]
  },
  {
   "cell_type": "code",
   "execution_count": null,
   "metadata": {},
   "outputs": [],
   "source": []
  }
 ],
 "metadata": {
  "kernelspec": {
   "display_name": "Python 3",
   "language": "python",
   "name": "python3"
  },
  "language_info": {
   "codemirror_mode": {
    "name": "ipython",
    "version": 3
   },
   "file_extension": ".py",
   "mimetype": "text/x-python",
   "name": "python",
   "nbconvert_exporter": "python",
   "pygments_lexer": "ipython3",
   "version": "3.8.5"
  }
 },
 "nbformat": 4,
 "nbformat_minor": 4
}
